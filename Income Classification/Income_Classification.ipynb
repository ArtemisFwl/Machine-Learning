{
 "cells": [
  {
   "cell_type": "markdown",
   "id": "db642d6a",
   "metadata": {},
   "source": [
    "# Income Classification "
   ]
  },
  {
   "cell_type": "markdown",
   "id": "957ac9c4",
   "metadata": {},
   "source": [
    "Use the dataset and train a classification model to predict if the income of a person is lesss than 50K or greater then 50K"
   ]
  },
  {
   "cell_type": "code",
   "execution_count": 1,
   "id": "37cf1a9e",
   "metadata": {},
   "outputs": [],
   "source": [
    "#Import the Libraries \n",
    "\n",
    "import pandas as pd\n",
    "import numpy as np \n",
    "import matplotlib.pyplot as plt \n",
    "import seaborn as sns "
   ]
  },
  {
   "cell_type": "code",
   "execution_count": 2,
   "id": "5f9ccea4",
   "metadata": {},
   "outputs": [],
   "source": [
    "df=pd.read_csv('train.csv')"
   ]
  },
  {
   "cell_type": "code",
   "execution_count": 3,
   "id": "7113a379",
   "metadata": {},
   "outputs": [
    {
     "data": {
      "text/html": [
       "<div>\n",
       "<style scoped>\n",
       "    .dataframe tbody tr th:only-of-type {\n",
       "        vertical-align: middle;\n",
       "    }\n",
       "\n",
       "    .dataframe tbody tr th {\n",
       "        vertical-align: top;\n",
       "    }\n",
       "\n",
       "    .dataframe thead th {\n",
       "        text-align: right;\n",
       "    }\n",
       "</style>\n",
       "<table border=\"1\" class=\"dataframe\">\n",
       "  <thead>\n",
       "    <tr style=\"text-align: right;\">\n",
       "      <th></th>\n",
       "      <th>age</th>\n",
       "      <th>workclass</th>\n",
       "      <th>fnlwgt</th>\n",
       "      <th>education</th>\n",
       "      <th>educational-num</th>\n",
       "      <th>marital-status</th>\n",
       "      <th>occupation</th>\n",
       "      <th>relationship</th>\n",
       "      <th>race</th>\n",
       "      <th>gender</th>\n",
       "      <th>capital-gain</th>\n",
       "      <th>capital-loss</th>\n",
       "      <th>hours-per-week</th>\n",
       "      <th>native-country</th>\n",
       "      <th>income_&gt;50K</th>\n",
       "    </tr>\n",
       "  </thead>\n",
       "  <tbody>\n",
       "    <tr>\n",
       "      <th>0</th>\n",
       "      <td>67</td>\n",
       "      <td>Private</td>\n",
       "      <td>366425</td>\n",
       "      <td>Doctorate</td>\n",
       "      <td>16</td>\n",
       "      <td>Divorced</td>\n",
       "      <td>Exec-managerial</td>\n",
       "      <td>Not-in-family</td>\n",
       "      <td>White</td>\n",
       "      <td>Male</td>\n",
       "      <td>99999</td>\n",
       "      <td>0</td>\n",
       "      <td>60</td>\n",
       "      <td>United-States</td>\n",
       "      <td>1</td>\n",
       "    </tr>\n",
       "    <tr>\n",
       "      <th>1</th>\n",
       "      <td>17</td>\n",
       "      <td>Private</td>\n",
       "      <td>244602</td>\n",
       "      <td>12th</td>\n",
       "      <td>8</td>\n",
       "      <td>Never-married</td>\n",
       "      <td>Other-service</td>\n",
       "      <td>Own-child</td>\n",
       "      <td>White</td>\n",
       "      <td>Male</td>\n",
       "      <td>0</td>\n",
       "      <td>0</td>\n",
       "      <td>15</td>\n",
       "      <td>United-States</td>\n",
       "      <td>0</td>\n",
       "    </tr>\n",
       "    <tr>\n",
       "      <th>2</th>\n",
       "      <td>31</td>\n",
       "      <td>Private</td>\n",
       "      <td>174201</td>\n",
       "      <td>Bachelors</td>\n",
       "      <td>13</td>\n",
       "      <td>Married-civ-spouse</td>\n",
       "      <td>Exec-managerial</td>\n",
       "      <td>Husband</td>\n",
       "      <td>White</td>\n",
       "      <td>Male</td>\n",
       "      <td>0</td>\n",
       "      <td>0</td>\n",
       "      <td>40</td>\n",
       "      <td>United-States</td>\n",
       "      <td>1</td>\n",
       "    </tr>\n",
       "    <tr>\n",
       "      <th>3</th>\n",
       "      <td>58</td>\n",
       "      <td>State-gov</td>\n",
       "      <td>110199</td>\n",
       "      <td>7th-8th</td>\n",
       "      <td>4</td>\n",
       "      <td>Married-civ-spouse</td>\n",
       "      <td>Transport-moving</td>\n",
       "      <td>Husband</td>\n",
       "      <td>White</td>\n",
       "      <td>Male</td>\n",
       "      <td>0</td>\n",
       "      <td>0</td>\n",
       "      <td>40</td>\n",
       "      <td>United-States</td>\n",
       "      <td>0</td>\n",
       "    </tr>\n",
       "    <tr>\n",
       "      <th>4</th>\n",
       "      <td>25</td>\n",
       "      <td>State-gov</td>\n",
       "      <td>149248</td>\n",
       "      <td>Some-college</td>\n",
       "      <td>10</td>\n",
       "      <td>Never-married</td>\n",
       "      <td>Other-service</td>\n",
       "      <td>Not-in-family</td>\n",
       "      <td>Black</td>\n",
       "      <td>Male</td>\n",
       "      <td>0</td>\n",
       "      <td>0</td>\n",
       "      <td>40</td>\n",
       "      <td>United-States</td>\n",
       "      <td>0</td>\n",
       "    </tr>\n",
       "  </tbody>\n",
       "</table>\n",
       "</div>"
      ],
      "text/plain": [
       "   age  workclass  fnlwgt     education  educational-num      marital-status  \\\n",
       "0   67    Private  366425     Doctorate               16            Divorced   \n",
       "1   17    Private  244602          12th                8       Never-married   \n",
       "2   31    Private  174201     Bachelors               13  Married-civ-spouse   \n",
       "3   58  State-gov  110199       7th-8th                4  Married-civ-spouse   \n",
       "4   25  State-gov  149248  Some-college               10       Never-married   \n",
       "\n",
       "         occupation   relationship   race gender  capital-gain  capital-loss  \\\n",
       "0   Exec-managerial  Not-in-family  White   Male         99999             0   \n",
       "1     Other-service      Own-child  White   Male             0             0   \n",
       "2   Exec-managerial        Husband  White   Male             0             0   \n",
       "3  Transport-moving        Husband  White   Male             0             0   \n",
       "4     Other-service  Not-in-family  Black   Male             0             0   \n",
       "\n",
       "   hours-per-week native-country  income_>50K  \n",
       "0              60  United-States            1  \n",
       "1              15  United-States            0  \n",
       "2              40  United-States            1  \n",
       "3              40  United-States            0  \n",
       "4              40  United-States            0  "
      ]
     },
     "execution_count": 3,
     "metadata": {},
     "output_type": "execute_result"
    }
   ],
   "source": [
    "df.head()"
   ]
  },
  {
   "cell_type": "code",
   "execution_count": 4,
   "id": "78cb9b0d",
   "metadata": {},
   "outputs": [
    {
     "data": {
      "text/plain": [
       "(43957, 15)"
      ]
     },
     "execution_count": 4,
     "metadata": {},
     "output_type": "execute_result"
    }
   ],
   "source": [
    "df.shape"
   ]
  },
  {
   "cell_type": "code",
   "execution_count": 5,
   "id": "5727f7ee",
   "metadata": {},
   "outputs": [],
   "source": [
    "#There are 43957 instances and 15 features out of which one is target feature"
   ]
  },
  {
   "cell_type": "markdown",
   "id": "4fa51e5c",
   "metadata": {},
   "source": [
    "# 2) Feature Engineering "
   ]
  },
  {
   "cell_type": "markdown",
   "id": "19022eb1",
   "metadata": {},
   "source": [
    "Feature engineering steps: \n",
    "    \n",
    "    1) Missing values \n",
    "    \n",
    "    2) Outliers \n",
    "    \n",
    "    3) Dummy Variables \n",
    "    \n",
    "    4) Correlation "
   ]
  },
  {
   "cell_type": "markdown",
   "id": "37ff7fd5",
   "metadata": {},
   "source": [
    "### 1) Checking for the missing values "
   ]
  },
  {
   "cell_type": "code",
   "execution_count": 6,
   "id": "6e98f392",
   "metadata": {},
   "outputs": [
    {
     "data": {
      "text/plain": [
       "age                   0\n",
       "workclass          2498\n",
       "fnlwgt                0\n",
       "education             0\n",
       "educational-num       0\n",
       "marital-status        0\n",
       "occupation         2506\n",
       "relationship          0\n",
       "race                  0\n",
       "gender                0\n",
       "capital-gain          0\n",
       "capital-loss          0\n",
       "hours-per-week        0\n",
       "native-country      763\n",
       "income_>50K           0\n",
       "dtype: int64"
      ]
     },
     "execution_count": 6,
     "metadata": {},
     "output_type": "execute_result"
    }
   ],
   "source": [
    "df.isna().sum()"
   ]
  },
  {
   "cell_type": "code",
   "execution_count": 7,
   "id": "14f4a348",
   "metadata": {},
   "outputs": [],
   "source": [
    "#three features have missing values "
   ]
  },
  {
   "cell_type": "markdown",
   "id": "00d0d20c",
   "metadata": {},
   "source": [
    "Fill the missing values with mode in categorical features and with mean in numerical features "
   ]
  },
  {
   "cell_type": "code",
   "execution_count": 8,
   "id": "f23e17b6",
   "metadata": {},
   "outputs": [],
   "source": [
    "df['workclass'].fillna(df['workclass'].mode, inplace=True)\n",
    "df['occupation'].fillna(df['occupation'].mode, inplace=True)\n",
    "df['native-country'].fillna(df['native-country'].mode, inplace=True)"
   ]
  },
  {
   "cell_type": "code",
   "execution_count": 9,
   "id": "dca48b5f",
   "metadata": {},
   "outputs": [
    {
     "data": {
      "text/plain": [
       "age                0\n",
       "workclass          0\n",
       "fnlwgt             0\n",
       "education          0\n",
       "educational-num    0\n",
       "marital-status     0\n",
       "occupation         0\n",
       "relationship       0\n",
       "race               0\n",
       "gender             0\n",
       "capital-gain       0\n",
       "capital-loss       0\n",
       "hours-per-week     0\n",
       "native-country     0\n",
       "income_>50K        0\n",
       "dtype: int64"
      ]
     },
     "execution_count": 9,
     "metadata": {},
     "output_type": "execute_result"
    }
   ],
   "source": [
    "df.isna().sum()"
   ]
  },
  {
   "cell_type": "code",
   "execution_count": 10,
   "id": "46f76a21",
   "metadata": {},
   "outputs": [],
   "source": [
    "# All the null values are replaced with mode values of the respective column "
   ]
  },
  {
   "cell_type": "markdown",
   "id": "b84de175",
   "metadata": {},
   "source": [
    "### 2) Dropping the redundant features "
   ]
  },
  {
   "cell_type": "code",
   "execution_count": 11,
   "id": "df757cd8",
   "metadata": {},
   "outputs": [
    {
     "data": {
      "text/html": [
       "<div>\n",
       "<style scoped>\n",
       "    .dataframe tbody tr th:only-of-type {\n",
       "        vertical-align: middle;\n",
       "    }\n",
       "\n",
       "    .dataframe tbody tr th {\n",
       "        vertical-align: top;\n",
       "    }\n",
       "\n",
       "    .dataframe thead th {\n",
       "        text-align: right;\n",
       "    }\n",
       "</style>\n",
       "<table border=\"1\" class=\"dataframe\">\n",
       "  <thead>\n",
       "    <tr style=\"text-align: right;\">\n",
       "      <th></th>\n",
       "      <th>age</th>\n",
       "      <th>workclass</th>\n",
       "      <th>fnlwgt</th>\n",
       "      <th>education</th>\n",
       "      <th>educational-num</th>\n",
       "      <th>marital-status</th>\n",
       "      <th>occupation</th>\n",
       "      <th>relationship</th>\n",
       "      <th>race</th>\n",
       "      <th>gender</th>\n",
       "      <th>capital-gain</th>\n",
       "      <th>capital-loss</th>\n",
       "      <th>hours-per-week</th>\n",
       "      <th>native-country</th>\n",
       "      <th>income_&gt;50K</th>\n",
       "    </tr>\n",
       "  </thead>\n",
       "  <tbody>\n",
       "    <tr>\n",
       "      <th>0</th>\n",
       "      <td>67</td>\n",
       "      <td>Private</td>\n",
       "      <td>366425</td>\n",
       "      <td>Doctorate</td>\n",
       "      <td>16</td>\n",
       "      <td>Divorced</td>\n",
       "      <td>Exec-managerial</td>\n",
       "      <td>Not-in-family</td>\n",
       "      <td>White</td>\n",
       "      <td>Male</td>\n",
       "      <td>99999</td>\n",
       "      <td>0</td>\n",
       "      <td>60</td>\n",
       "      <td>United-States</td>\n",
       "      <td>1</td>\n",
       "    </tr>\n",
       "    <tr>\n",
       "      <th>1</th>\n",
       "      <td>17</td>\n",
       "      <td>Private</td>\n",
       "      <td>244602</td>\n",
       "      <td>12th</td>\n",
       "      <td>8</td>\n",
       "      <td>Never-married</td>\n",
       "      <td>Other-service</td>\n",
       "      <td>Own-child</td>\n",
       "      <td>White</td>\n",
       "      <td>Male</td>\n",
       "      <td>0</td>\n",
       "      <td>0</td>\n",
       "      <td>15</td>\n",
       "      <td>United-States</td>\n",
       "      <td>0</td>\n",
       "    </tr>\n",
       "  </tbody>\n",
       "</table>\n",
       "</div>"
      ],
      "text/plain": [
       "   age workclass  fnlwgt  education  educational-num marital-status  \\\n",
       "0   67   Private  366425  Doctorate               16       Divorced   \n",
       "1   17   Private  244602       12th                8  Never-married   \n",
       "\n",
       "        occupation   relationship   race gender  capital-gain  capital-loss  \\\n",
       "0  Exec-managerial  Not-in-family  White   Male         99999             0   \n",
       "1    Other-service      Own-child  White   Male             0             0   \n",
       "\n",
       "   hours-per-week native-country  income_>50K  \n",
       "0              60  United-States            1  \n",
       "1              15  United-States            0  "
      ]
     },
     "execution_count": 11,
     "metadata": {},
     "output_type": "execute_result"
    }
   ],
   "source": [
    "df.head(2)"
   ]
  },
  {
   "cell_type": "markdown",
   "id": "7e2158da",
   "metadata": {},
   "source": [
    "Here by observation we can see that education and educational-num give the same information. Hence we can drop one of the feature. We prefer to keep the numerial features so we will drop the education column "
   ]
  },
  {
   "cell_type": "code",
   "execution_count": 12,
   "id": "bec44e46",
   "metadata": {},
   "outputs": [],
   "source": [
    "df.drop('native-country', axis=1, inplace=True)"
   ]
  },
  {
   "cell_type": "code",
   "execution_count": 13,
   "id": "eda0957f",
   "metadata": {},
   "outputs": [
    {
     "data": {
      "text/plain": [
       "(43957, 14)"
      ]
     },
     "execution_count": 13,
     "metadata": {},
     "output_type": "execute_result"
    }
   ],
   "source": [
    "df.shape"
   ]
  },
  {
   "cell_type": "markdown",
   "id": "37c7ac4c",
   "metadata": {},
   "source": [
    "### 3) Checking for outliers "
   ]
  },
  {
   "cell_type": "markdown",
   "id": "3e154ff1",
   "metadata": {},
   "source": [
    "To check for outliers we can make the boxplot. It will give us an idea. For simplicity in this program we will deal with outliers in age column only "
   ]
  },
  {
   "cell_type": "code",
   "execution_count": 14,
   "id": "bb778fcf",
   "metadata": {},
   "outputs": [
    {
     "data": {
      "text/plain": [
       "<AxesSubplot:xlabel='age'>"
      ]
     },
     "execution_count": 14,
     "metadata": {},
     "output_type": "execute_result"
    },
    {
     "data": {
      "image/png": "[encoded data removed]",
      "text/plain": [
       "<Figure size 432x288 with 1 Axes>"
      ]
     },
     "metadata": {
      "needs_background": "light"
     },
     "output_type": "display_data"
    }
   ],
   "source": [
    "sns.boxplot(data=df, x='age')"
   ]
  },
  {
   "cell_type": "markdown",
   "id": "8f859d74",
   "metadata": {},
   "source": [
    "### Write a function to find the outliers "
   ]
  },
  {
   "cell_type": "code",
   "execution_count": 15,
   "id": "20622d7d",
   "metadata": {},
   "outputs": [],
   "source": [
    "def ret_outliers (df):\n",
    "    q1=df.quantile(0.25)\n",
    "    q3=df.quantile(0.75)\n",
    "    \n",
    "    iqr= (q3-q1)\n",
    "    \n",
    "    lower = q1-1.5*iqr\n",
    "    upper= q3+1.5*iqr\n",
    "    \n",
    "    outliers=[]\n",
    "    \n",
    "    for i in df:\n",
    "        if i<lower or i>upper:\n",
    "            outliers.append(i)\n",
    "            \n",
    "            \n",
    "    return outliers \n",
    "        "
   ]
  },
  {
   "cell_type": "code",
   "execution_count": 16,
   "id": "8a8a25c0",
   "metadata": {},
   "outputs": [],
   "source": [
    "olr=ret_outliers(df['age'])"
   ]
  },
  {
   "cell_type": "code",
   "execution_count": 17,
   "id": "7ebe8020",
   "metadata": {},
   "outputs": [
    {
     "data": {
      "text/plain": [
       "193"
      ]
     },
     "execution_count": 17,
     "metadata": {},
     "output_type": "execute_result"
    }
   ],
   "source": [
    "len(olr)"
   ]
  },
  {
   "cell_type": "code",
   "execution_count": 18,
   "id": "0384288d",
   "metadata": {},
   "outputs": [
    {
     "data": {
      "text/plain": [
       "90"
      ]
     },
     "execution_count": 18,
     "metadata": {},
     "output_type": "execute_result"
    }
   ],
   "source": [
    "max(olr)"
   ]
  },
  {
   "cell_type": "code",
   "execution_count": 19,
   "id": "e22ec65a",
   "metadata": {},
   "outputs": [
    {
     "data": {
      "text/plain": [
       "79"
      ]
     },
     "execution_count": 19,
     "metadata": {},
     "output_type": "execute_result"
    }
   ],
   "source": [
    "min(olr)"
   ]
  },
  {
   "cell_type": "markdown",
   "id": "27dd279f",
   "metadata": {},
   "source": [
    "We see that the feature age has 193 outliers with max value of 90 anf min value of 79"
   ]
  },
  {
   "cell_type": "markdown",
   "id": "c56340ca",
   "metadata": {},
   "source": [
    "For working class people generally the age is between 18 to 65"
   ]
  },
  {
   "cell_type": "markdown",
   "id": "b7f65192",
   "metadata": {},
   "source": [
    "In this program we will remove the upper limit outliers i.e age >79"
   ]
  },
  {
   "cell_type": "code",
   "execution_count": 20,
   "id": "c352aba7",
   "metadata": {},
   "outputs": [],
   "source": [
    "df.drop(df[df['age']>79].index, inplace=True)"
   ]
  },
  {
   "cell_type": "code",
   "execution_count": 21,
   "id": "2749f13e",
   "metadata": {},
   "outputs": [
    {
     "data": {
      "text/plain": [
       "(43791, 14)"
      ]
     },
     "execution_count": 21,
     "metadata": {},
     "output_type": "execute_result"
    }
   ],
   "source": [
    "df.shape"
   ]
  },
  {
   "cell_type": "markdown",
   "id": "39131f91",
   "metadata": {},
   "source": [
    "### 4) Checking for Correlation "
   ]
  },
  {
   "cell_type": "code",
   "execution_count": 22,
   "id": "5c2df2bf",
   "metadata": {},
   "outputs": [
    {
     "data": {
      "text/html": [
       "<div>\n",
       "<style scoped>\n",
       "    .dataframe tbody tr th:only-of-type {\n",
       "        vertical-align: middle;\n",
       "    }\n",
       "\n",
       "    .dataframe tbody tr th {\n",
       "        vertical-align: top;\n",
       "    }\n",
       "\n",
       "    .dataframe thead th {\n",
       "        text-align: right;\n",
       "    }\n",
       "</style>\n",
       "<table border=\"1\" class=\"dataframe\">\n",
       "  <thead>\n",
       "    <tr style=\"text-align: right;\">\n",
       "      <th></th>\n",
       "      <th>age</th>\n",
       "      <th>fnlwgt</th>\n",
       "      <th>educational-num</th>\n",
       "      <th>capital-gain</th>\n",
       "      <th>capital-loss</th>\n",
       "      <th>hours-per-week</th>\n",
       "      <th>income_&gt;50K</th>\n",
       "    </tr>\n",
       "  </thead>\n",
       "  <tbody>\n",
       "    <tr>\n",
       "      <th>age</th>\n",
       "      <td>1.000000</td>\n",
       "      <td>-0.074975</td>\n",
       "      <td>0.039525</td>\n",
       "      <td>0.076638</td>\n",
       "      <td>0.056582</td>\n",
       "      <td>0.085505</td>\n",
       "      <td>0.239014</td>\n",
       "    </tr>\n",
       "    <tr>\n",
       "      <th>fnlwgt</th>\n",
       "      <td>-0.074975</td>\n",
       "      <td>1.000000</td>\n",
       "      <td>-0.041381</td>\n",
       "      <td>-0.003273</td>\n",
       "      <td>-0.005875</td>\n",
       "      <td>-0.013147</td>\n",
       "      <td>-0.006995</td>\n",
       "    </tr>\n",
       "    <tr>\n",
       "      <th>educational-num</th>\n",
       "      <td>0.039525</td>\n",
       "      <td>-0.041381</td>\n",
       "      <td>1.000000</td>\n",
       "      <td>0.126554</td>\n",
       "      <td>0.081100</td>\n",
       "      <td>0.144100</td>\n",
       "      <td>0.334028</td>\n",
       "    </tr>\n",
       "    <tr>\n",
       "      <th>capital-gain</th>\n",
       "      <td>0.076638</td>\n",
       "      <td>-0.003273</td>\n",
       "      <td>0.126554</td>\n",
       "      <td>1.000000</td>\n",
       "      <td>-0.031451</td>\n",
       "      <td>0.082449</td>\n",
       "      <td>0.222809</td>\n",
       "    </tr>\n",
       "    <tr>\n",
       "      <th>capital-loss</th>\n",
       "      <td>0.056582</td>\n",
       "      <td>-0.005875</td>\n",
       "      <td>0.081100</td>\n",
       "      <td>-0.031451</td>\n",
       "      <td>1.000000</td>\n",
       "      <td>0.055521</td>\n",
       "      <td>0.145384</td>\n",
       "    </tr>\n",
       "    <tr>\n",
       "      <th>hours-per-week</th>\n",
       "      <td>0.085505</td>\n",
       "      <td>-0.013147</td>\n",
       "      <td>0.144100</td>\n",
       "      <td>0.082449</td>\n",
       "      <td>0.055521</td>\n",
       "      <td>1.000000</td>\n",
       "      <td>0.227622</td>\n",
       "    </tr>\n",
       "    <tr>\n",
       "      <th>income_&gt;50K</th>\n",
       "      <td>0.239014</td>\n",
       "      <td>-0.006995</td>\n",
       "      <td>0.334028</td>\n",
       "      <td>0.222809</td>\n",
       "      <td>0.145384</td>\n",
       "      <td>0.227622</td>\n",
       "      <td>1.000000</td>\n",
       "    </tr>\n",
       "  </tbody>\n",
       "</table>\n",
       "</div>"
      ],
      "text/plain": [
       "                      age    fnlwgt  educational-num  capital-gain  \\\n",
       "age              1.000000 -0.074975         0.039525      0.076638   \n",
       "fnlwgt          -0.074975  1.000000        -0.041381     -0.003273   \n",
       "educational-num  0.039525 -0.041381         1.000000      0.126554   \n",
       "capital-gain     0.076638 -0.003273         0.126554      1.000000   \n",
       "capital-loss     0.056582 -0.005875         0.081100     -0.031451   \n",
       "hours-per-week   0.085505 -0.013147         0.144100      0.082449   \n",
       "income_>50K      0.239014 -0.006995         0.334028      0.222809   \n",
       "\n",
       "                 capital-loss  hours-per-week  income_>50K  \n",
       "age                  0.056582        0.085505     0.239014  \n",
       "fnlwgt              -0.005875       -0.013147    -0.006995  \n",
       "educational-num      0.081100        0.144100     0.334028  \n",
       "capital-gain        -0.031451        0.082449     0.222809  \n",
       "capital-loss         1.000000        0.055521     0.145384  \n",
       "hours-per-week       0.055521        1.000000     0.227622  \n",
       "income_>50K          0.145384        0.227622     1.000000  "
      ]
     },
     "execution_count": 22,
     "metadata": {},
     "output_type": "execute_result"
    }
   ],
   "source": [
    "df.corr()"
   ]
  },
  {
   "cell_type": "code",
   "execution_count": 23,
   "id": "fbf1bfb4",
   "metadata": {},
   "outputs": [
    {
     "data": {
      "image/png": "[encoded data removed]",
      "text/plain": [
       "<Figure size 720x720 with 2 Axes>"
      ]
     },
     "metadata": {
      "needs_background": "light"
     },
     "output_type": "display_data"
    }
   ],
   "source": [
    "plt.figure(figsize=(10,10))\n",
    "sns.heatmap(data=df.corr(), annot=True, cmap= 'Oranges')\n",
    "plt.show()"
   ]
  },
  {
   "cell_type": "code",
   "execution_count": 24,
   "id": "3dd010c1",
   "metadata": {},
   "outputs": [],
   "source": [
    "# Dropping the fnlwgt colummn\n",
    "\n",
    "df.drop('fnlwgt', axis=1, inplace=True )"
   ]
  },
  {
   "cell_type": "code",
   "execution_count": 25,
   "id": "a4f36075",
   "metadata": {},
   "outputs": [
    {
     "data": {
      "text/html": [
       "<div>\n",
       "<style scoped>\n",
       "    .dataframe tbody tr th:only-of-type {\n",
       "        vertical-align: middle;\n",
       "    }\n",
       "\n",
       "    .dataframe tbody tr th {\n",
       "        vertical-align: top;\n",
       "    }\n",
       "\n",
       "    .dataframe thead th {\n",
       "        text-align: right;\n",
       "    }\n",
       "</style>\n",
       "<table border=\"1\" class=\"dataframe\">\n",
       "  <thead>\n",
       "    <tr style=\"text-align: right;\">\n",
       "      <th></th>\n",
       "      <th>age</th>\n",
       "      <th>workclass</th>\n",
       "      <th>education</th>\n",
       "      <th>educational-num</th>\n",
       "      <th>marital-status</th>\n",
       "      <th>occupation</th>\n",
       "      <th>relationship</th>\n",
       "      <th>race</th>\n",
       "      <th>gender</th>\n",
       "      <th>capital-gain</th>\n",
       "      <th>capital-loss</th>\n",
       "      <th>hours-per-week</th>\n",
       "      <th>income_&gt;50K</th>\n",
       "    </tr>\n",
       "  </thead>\n",
       "  <tbody>\n",
       "    <tr>\n",
       "      <th>0</th>\n",
       "      <td>67</td>\n",
       "      <td>Private</td>\n",
       "      <td>Doctorate</td>\n",
       "      <td>16</td>\n",
       "      <td>Divorced</td>\n",
       "      <td>Exec-managerial</td>\n",
       "      <td>Not-in-family</td>\n",
       "      <td>White</td>\n",
       "      <td>Male</td>\n",
       "      <td>99999</td>\n",
       "      <td>0</td>\n",
       "      <td>60</td>\n",
       "      <td>1</td>\n",
       "    </tr>\n",
       "    <tr>\n",
       "      <th>1</th>\n",
       "      <td>17</td>\n",
       "      <td>Private</td>\n",
       "      <td>12th</td>\n",
       "      <td>8</td>\n",
       "      <td>Never-married</td>\n",
       "      <td>Other-service</td>\n",
       "      <td>Own-child</td>\n",
       "      <td>White</td>\n",
       "      <td>Male</td>\n",
       "      <td>0</td>\n",
       "      <td>0</td>\n",
       "      <td>15</td>\n",
       "      <td>0</td>\n",
       "    </tr>\n",
       "  </tbody>\n",
       "</table>\n",
       "</div>"
      ],
      "text/plain": [
       "   age workclass  education  educational-num marital-status       occupation  \\\n",
       "0   67   Private  Doctorate               16       Divorced  Exec-managerial   \n",
       "1   17   Private       12th                8  Never-married    Other-service   \n",
       "\n",
       "    relationship   race gender  capital-gain  capital-loss  hours-per-week  \\\n",
       "0  Not-in-family  White   Male         99999             0              60   \n",
       "1      Own-child  White   Male             0             0              15   \n",
       "\n",
       "   income_>50K  \n",
       "0            1  \n",
       "1            0  "
      ]
     },
     "execution_count": 25,
     "metadata": {},
     "output_type": "execute_result"
    }
   ],
   "source": [
    "df.head(2)"
   ]
  },
  {
   "cell_type": "code",
   "execution_count": 26,
   "id": "035f7f7d",
   "metadata": {},
   "outputs": [
    {
     "data": {
      "text/plain": [
       "(43791, 13)"
      ]
     },
     "execution_count": 26,
     "metadata": {},
     "output_type": "execute_result"
    }
   ],
   "source": [
    "df.shape"
   ]
  },
  {
   "cell_type": "markdown",
   "id": "9363e092",
   "metadata": {},
   "source": [
    "### 5) Dealing with the categorical values "
   ]
  },
  {
   "cell_type": "code",
   "execution_count": 27,
   "id": "f4425226",
   "metadata": {},
   "outputs": [],
   "source": [
    "#Getting the list of categorical type features "
   ]
  },
  {
   "cell_type": "code",
   "execution_count": 28,
   "id": "b26b15ad",
   "metadata": {},
   "outputs": [
    {
     "name": "stdout",
     "output_type": "stream",
     "text": [
      "<class 'pandas.core.frame.DataFrame'>\n",
      "Int64Index: 43791 entries, 0 to 43956\n",
      "Data columns (total 13 columns):\n",
      " #   Column           Non-Null Count  Dtype \n",
      "---  ------           --------------  ----- \n",
      " 0   age              43791 non-null  int64 \n",
      " 1   workclass        43791 non-null  object\n",
      " 2   education        43791 non-null  object\n",
      " 3   educational-num  43791 non-null  int64 \n",
      " 4   marital-status   43791 non-null  object\n",
      " 5   occupation       43791 non-null  object\n",
      " 6   relationship     43791 non-null  object\n",
      " 7   race             43791 non-null  object\n",
      " 8   gender           43791 non-null  object\n",
      " 9   capital-gain     43791 non-null  int64 \n",
      " 10  capital-loss     43791 non-null  int64 \n",
      " 11  hours-per-week   43791 non-null  int64 \n",
      " 12  income_>50K      43791 non-null  int64 \n",
      "dtypes: int64(6), object(7)\n",
      "memory usage: 4.7+ MB\n"
     ]
    }
   ],
   "source": [
    "df.info()"
   ]
  },
  {
   "cell_type": "code",
   "execution_count": 29,
   "id": "09bd33fc",
   "metadata": {},
   "outputs": [],
   "source": [
    "categorical_values= list(df.select_dtypes(include='object').columns)"
   ]
  },
  {
   "cell_type": "code",
   "execution_count": 30,
   "id": "002ba9bb",
   "metadata": {},
   "outputs": [
    {
     "data": {
      "text/plain": [
       "['workclass',\n",
       " 'education',\n",
       " 'marital-status',\n",
       " 'occupation',\n",
       " 'relationship',\n",
       " 'race',\n",
       " 'gender']"
      ]
     },
     "execution_count": 30,
     "metadata": {},
     "output_type": "execute_result"
    }
   ],
   "source": [
    "categorical_values"
   ]
  },
  {
   "cell_type": "code",
   "execution_count": 31,
   "id": "d377c15d",
   "metadata": {},
   "outputs": [],
   "source": [
    "df=pd.get_dummies(data=df, columns=categorical_values, drop_first=True)"
   ]
  },
  {
   "cell_type": "code",
   "execution_count": 32,
   "id": "0033ea55",
   "metadata": {},
   "outputs": [
    {
     "data": {
      "text/plain": [
       "(43791, 59)"
      ]
     },
     "execution_count": 32,
     "metadata": {},
     "output_type": "execute_result"
    }
   ],
   "source": [
    "df.shape"
   ]
  },
  {
   "cell_type": "code",
   "execution_count": 33,
   "id": "48b2cf2d",
   "metadata": {},
   "outputs": [
    {
     "data": {
      "text/html": [
       "<div>\n",
       "<style scoped>\n",
       "    .dataframe tbody tr th:only-of-type {\n",
       "        vertical-align: middle;\n",
       "    }\n",
       "\n",
       "    .dataframe tbody tr th {\n",
       "        vertical-align: top;\n",
       "    }\n",
       "\n",
       "    .dataframe thead th {\n",
       "        text-align: right;\n",
       "    }\n",
       "</style>\n",
       "<table border=\"1\" class=\"dataframe\">\n",
       "  <thead>\n",
       "    <tr style=\"text-align: right;\">\n",
       "      <th></th>\n",
       "      <th>age</th>\n",
       "      <th>educational-num</th>\n",
       "      <th>capital-gain</th>\n",
       "      <th>capital-loss</th>\n",
       "      <th>hours-per-week</th>\n",
       "      <th>income_&gt;50K</th>\n",
       "      <th>workclass_Federal-gov</th>\n",
       "      <th>workclass_Local-gov</th>\n",
       "      <th>workclass_Never-worked</th>\n",
       "      <th>workclass_Private</th>\n",
       "      <th>...</th>\n",
       "      <th>relationship_Not-in-family</th>\n",
       "      <th>relationship_Other-relative</th>\n",
       "      <th>relationship_Own-child</th>\n",
       "      <th>relationship_Unmarried</th>\n",
       "      <th>relationship_Wife</th>\n",
       "      <th>race_Asian-Pac-Islander</th>\n",
       "      <th>race_Black</th>\n",
       "      <th>race_Other</th>\n",
       "      <th>race_White</th>\n",
       "      <th>gender_Male</th>\n",
       "    </tr>\n",
       "  </thead>\n",
       "  <tbody>\n",
       "    <tr>\n",
       "      <th>0</th>\n",
       "      <td>67</td>\n",
       "      <td>16</td>\n",
       "      <td>99999</td>\n",
       "      <td>0</td>\n",
       "      <td>60</td>\n",
       "      <td>1</td>\n",
       "      <td>0</td>\n",
       "      <td>0</td>\n",
       "      <td>0</td>\n",
       "      <td>1</td>\n",
       "      <td>...</td>\n",
       "      <td>1</td>\n",
       "      <td>0</td>\n",
       "      <td>0</td>\n",
       "      <td>0</td>\n",
       "      <td>0</td>\n",
       "      <td>0</td>\n",
       "      <td>0</td>\n",
       "      <td>0</td>\n",
       "      <td>1</td>\n",
       "      <td>1</td>\n",
       "    </tr>\n",
       "    <tr>\n",
       "      <th>1</th>\n",
       "      <td>17</td>\n",
       "      <td>8</td>\n",
       "      <td>0</td>\n",
       "      <td>0</td>\n",
       "      <td>15</td>\n",
       "      <td>0</td>\n",
       "      <td>0</td>\n",
       "      <td>0</td>\n",
       "      <td>0</td>\n",
       "      <td>1</td>\n",
       "      <td>...</td>\n",
       "      <td>0</td>\n",
       "      <td>0</td>\n",
       "      <td>1</td>\n",
       "      <td>0</td>\n",
       "      <td>0</td>\n",
       "      <td>0</td>\n",
       "      <td>0</td>\n",
       "      <td>0</td>\n",
       "      <td>1</td>\n",
       "      <td>1</td>\n",
       "    </tr>\n",
       "  </tbody>\n",
       "</table>\n",
       "<p>2 rows × 59 columns</p>\n",
       "</div>"
      ],
      "text/plain": [
       "   age  educational-num  capital-gain  capital-loss  hours-per-week  \\\n",
       "0   67               16         99999             0              60   \n",
       "1   17                8             0             0              15   \n",
       "\n",
       "   income_>50K  workclass_Federal-gov  workclass_Local-gov  \\\n",
       "0            1                      0                    0   \n",
       "1            0                      0                    0   \n",
       "\n",
       "   workclass_Never-worked  workclass_Private  ...  relationship_Not-in-family  \\\n",
       "0                       0                  1  ...                           1   \n",
       "1                       0                  1  ...                           0   \n",
       "\n",
       "   relationship_Other-relative  relationship_Own-child  \\\n",
       "0                            0                       0   \n",
       "1                            0                       1   \n",
       "\n",
       "   relationship_Unmarried  relationship_Wife  race_Asian-Pac-Islander  \\\n",
       "0                       0                  0                        0   \n",
       "1                       0                  0                        0   \n",
       "\n",
       "   race_Black  race_Other  race_White  gender_Male  \n",
       "0           0           0           1            1  \n",
       "1           0           0           1            1  \n",
       "\n",
       "[2 rows x 59 columns]"
      ]
     },
     "execution_count": 33,
     "metadata": {},
     "output_type": "execute_result"
    }
   ],
   "source": [
    "df.head(2)"
   ]
  },
  {
   "cell_type": "markdown",
   "id": "be26f520",
   "metadata": {},
   "source": [
    "#Note: The error I was facing was because the dataframe had changed when I had executed the line earlier "
   ]
  },
  {
   "cell_type": "markdown",
   "id": "89923e75",
   "metadata": {},
   "source": [
    "# 3) Train Test split "
   ]
  },
  {
   "cell_type": "code",
   "execution_count": 34,
   "id": "50d0f8d2",
   "metadata": {},
   "outputs": [],
   "source": [
    "X=df.drop('income_>50K', axis=1)\n",
    "y=df['income_>50K']"
   ]
  },
  {
   "cell_type": "code",
   "execution_count": 35,
   "id": "95269d85",
   "metadata": {},
   "outputs": [
    {
     "data": {
      "text/plain": [
       "(43791, 58)"
      ]
     },
     "execution_count": 35,
     "metadata": {},
     "output_type": "execute_result"
    }
   ],
   "source": [
    "X.shape"
   ]
  },
  {
   "cell_type": "code",
   "execution_count": 36,
   "id": "6896a872",
   "metadata": {},
   "outputs": [
    {
     "data": {
      "text/plain": [
       "(43791,)"
      ]
     },
     "execution_count": 36,
     "metadata": {},
     "output_type": "execute_result"
    }
   ],
   "source": [
    "y.shape"
   ]
  },
  {
   "cell_type": "code",
   "execution_count": 37,
   "id": "63af3d8c",
   "metadata": {},
   "outputs": [],
   "source": [
    "from sklearn.model_selection import train_test_split \n",
    "X_train, X_test, y_train, y_test =train_test_split(X, y, test_size=.25, random_state=52)"
   ]
  },
  {
   "cell_type": "markdown",
   "id": "d232d934",
   "metadata": {},
   "source": [
    "# 4) Standardization "
   ]
  },
  {
   "cell_type": "code",
   "execution_count": 39,
   "id": "c7ec5958",
   "metadata": {},
   "outputs": [],
   "source": [
    "from sklearn.preprocessing import StandardScaler\n",
    "SC= StandardScaler()\n",
    "\n",
    "X_train=SC.fit_transform(X_train)\n",
    "X_test=SC.transform(X_test)"
   ]
  },
  {
   "cell_type": "code",
   "execution_count": 40,
   "id": "f77ce1c6",
   "metadata": {},
   "outputs": [
    {
     "data": {
      "text/plain": [
       "numpy.ndarray"
      ]
     },
     "execution_count": 40,
     "metadata": {},
     "output_type": "execute_result"
    }
   ],
   "source": [
    "type(X_train)"
   ]
  },
  {
   "cell_type": "code",
   "execution_count": 41,
   "id": "f477f18b",
   "metadata": {},
   "outputs": [],
   "source": [
    "#We do not do scaling on the target variable"
   ]
  },
  {
   "cell_type": "markdown",
   "id": "689e3d79",
   "metadata": {},
   "source": [
    "# 5) Training different models and comparing their performances "
   ]
  },
  {
   "cell_type": "markdown",
   "id": "d065bc01",
   "metadata": {},
   "source": [
    "We will use follwing different algorithms :\n",
    "    \n",
    "    1) KNN Classifier\n",
    "    \n",
    "    2) Random Forest Classifier\n",
    "    \n",
    "    3) Decision Tree \n",
    "    \n",
    "    4) Logistic Regression \n",
    "    \n",
    "    5) XGBoost "
   ]
  },
  {
   "cell_type": "markdown",
   "id": "50caf3c3",
   "metadata": {},
   "source": [
    "We will search for the best parameters for the above algorithms using randomizedsearchcv "
   ]
  },
  {
   "cell_type": "code",
   "execution_count": 42,
   "id": "45837578",
   "metadata": {},
   "outputs": [],
   "source": [
    "#Importing the library for Randomized Search CV\n",
    "from sklearn.model_selection import RandomizedSearchCV\n",
    "\n",
    "#Importing library for metrics for model evaluation \n",
    "from sklearn.metrics import classification_report, confusion_matrix, accuracy_score\n",
    "\n",
    "#Make a dataframe to store the accuracy data of all the models for easy comparision \n",
    "result=pd.DataFrame(columns=['Model','Accuracy Score'])"
   ]
  },
  {
   "cell_type": "markdown",
   "id": "dcb50579",
   "metadata": {},
   "source": [
    "### 1) KNN Classifier"
   ]
  },
  {
   "cell_type": "code",
   "execution_count": 43,
   "id": "20f78dd0",
   "metadata": {},
   "outputs": [
    {
     "name": "stdout",
     "output_type": "stream",
     "text": [
      "Fitting 3 folds for each of 10 candidates, totalling 30 fits\n",
      "[CV 1/3; 1/10] START algorithm=auto, leaf_size=14, metric=minkowski, n_neighbors=14, p=2, weights=distane\n"
     ]
    },
    {
     "name": "stderr",
     "output_type": "stream",
     "text": [
      "C:\\Users\\artem\\anaconda3\\lib\\site-packages\\sklearn\\model_selection\\_validation.py:683: UserWarning: Scoring failed. The score on this train-test partition for these parameters will be set to nan. Details: \n",
      "Traceback (most recent call last):\n",
      "  File \"C:\\Users\\artem\\anaconda3\\lib\\site-packages\\sklearn\\model_selection\\_validation.py\", line 674, in _score\n",
      "    scores = scorer(estimator, X_test, y_test)\n",
      "  File \"C:\\Users\\artem\\anaconda3\\lib\\site-packages\\sklearn\\metrics\\_scorer.py\", line 397, in _passthrough_scorer\n",
      "    return estimator.score(*args, **kwargs)\n",
      "  File \"C:\\Users\\artem\\anaconda3\\lib\\site-packages\\sklearn\\base.py\", line 500, in score\n",
      "    return accuracy_score(y, self.predict(X), sample_weight=sample_weight)\n",
      "  File \"C:\\Users\\artem\\anaconda3\\lib\\site-packages\\sklearn\\neighbors\\_classification.py\", line 206, in predict\n",
      "    weights = _get_weights(neigh_dist, self.weights)\n",
      "  File \"C:\\Users\\artem\\anaconda3\\lib\\site-packages\\sklearn\\neighbors\\_base.py\", line 111, in _get_weights\n",
      "    raise ValueError(\"weights not recognized: should be 'uniform', \"\n",
      "ValueError: weights not recognized: should be 'uniform', 'distance', or a callable function\n",
      "\n",
      "  warnings.warn(\n"
     ]
    },
    {
     "name": "stdout",
     "output_type": "stream",
     "text": [
      "[CV 1/3; 1/10] END algorithm=auto, leaf_size=14, metric=minkowski, n_neighbors=14, p=2, weights=distane; total time=   8.1s\n",
      "[CV 2/3; 1/10] START algorithm=auto, leaf_size=14, metric=minkowski, n_neighbors=14, p=2, weights=distane\n"
     ]
    },
    {
     "name": "stderr",
     "output_type": "stream",
     "text": [
      "C:\\Users\\artem\\anaconda3\\lib\\site-packages\\sklearn\\model_selection\\_validation.py:683: UserWarning: Scoring failed. The score on this train-test partition for these parameters will be set to nan. Details: \n",
      "Traceback (most recent call last):\n",
      "  File \"C:\\Users\\artem\\anaconda3\\lib\\site-packages\\sklearn\\model_selection\\_validation.py\", line 674, in _score\n",
      "    scores = scorer(estimator, X_test, y_test)\n",
      "  File \"C:\\Users\\artem\\anaconda3\\lib\\site-packages\\sklearn\\metrics\\_scorer.py\", line 397, in _passthrough_scorer\n",
      "    return estimator.score(*args, **kwargs)\n",
      "  File \"C:\\Users\\artem\\anaconda3\\lib\\site-packages\\sklearn\\base.py\", line 500, in score\n",
      "    return accuracy_score(y, self.predict(X), sample_weight=sample_weight)\n",
      "  File \"C:\\Users\\artem\\anaconda3\\lib\\site-packages\\sklearn\\neighbors\\_classification.py\", line 206, in predict\n",
      "    weights = _get_weights(neigh_dist, self.weights)\n",
      "  File \"C:\\Users\\artem\\anaconda3\\lib\\site-packages\\sklearn\\neighbors\\_base.py\", line 111, in _get_weights\n",
      "    raise ValueError(\"weights not recognized: should be 'uniform', \"\n",
      "ValueError: weights not recognized: should be 'uniform', 'distance', or a callable function\n",
      "\n",
      "  warnings.warn(\n"
     ]
    },
    {
     "name": "stdout",
     "output_type": "stream",
     "text": [
      "[CV 2/3; 1/10] END algorithm=auto, leaf_size=14, metric=minkowski, n_neighbors=14, p=2, weights=distane; total time=   4.9s\n",
      "[CV 3/3; 1/10] START algorithm=auto, leaf_size=14, metric=minkowski, n_neighbors=14, p=2, weights=distane\n"
     ]
    },
    {
     "name": "stderr",
     "output_type": "stream",
     "text": [
      "C:\\Users\\artem\\anaconda3\\lib\\site-packages\\sklearn\\model_selection\\_validation.py:683: UserWarning: Scoring failed. The score on this train-test partition for these parameters will be set to nan. Details: \n",
      "Traceback (most recent call last):\n",
      "  File \"C:\\Users\\artem\\anaconda3\\lib\\site-packages\\sklearn\\model_selection\\_validation.py\", line 674, in _score\n",
      "    scores = scorer(estimator, X_test, y_test)\n",
      "  File \"C:\\Users\\artem\\anaconda3\\lib\\site-packages\\sklearn\\metrics\\_scorer.py\", line 397, in _passthrough_scorer\n",
      "    return estimator.score(*args, **kwargs)\n",
      "  File \"C:\\Users\\artem\\anaconda3\\lib\\site-packages\\sklearn\\base.py\", line 500, in score\n",
      "    return accuracy_score(y, self.predict(X), sample_weight=sample_weight)\n",
      "  File \"C:\\Users\\artem\\anaconda3\\lib\\site-packages\\sklearn\\neighbors\\_classification.py\", line 206, in predict\n",
      "    weights = _get_weights(neigh_dist, self.weights)\n",
      "  File \"C:\\Users\\artem\\anaconda3\\lib\\site-packages\\sklearn\\neighbors\\_base.py\", line 111, in _get_weights\n",
      "    raise ValueError(\"weights not recognized: should be 'uniform', \"\n",
      "ValueError: weights not recognized: should be 'uniform', 'distance', or a callable function\n",
      "\n",
      "  warnings.warn(\n"
     ]
    },
    {
     "name": "stdout",
     "output_type": "stream",
     "text": [
      "[CV 3/3; 1/10] END algorithm=auto, leaf_size=14, metric=minkowski, n_neighbors=14, p=2, weights=distane; total time=   4.8s\n",
      "[CV 1/3; 2/10] START algorithm=auto, leaf_size=5, metric=minkowski, n_neighbors=13, p=2, weights=uniform\n",
      "[CV 1/3; 2/10] END algorithm=auto, leaf_size=5, metric=minkowski, n_neighbors=13, p=2, weights=uniform; total time=   5.2s\n",
      "[CV 2/3; 2/10] START algorithm=auto, leaf_size=5, metric=minkowski, n_neighbors=13, p=2, weights=uniform\n",
      "[CV 2/3; 2/10] END algorithm=auto, leaf_size=5, metric=minkowski, n_neighbors=13, p=2, weights=uniform; total time=   4.9s\n",
      "[CV 3/3; 2/10] START algorithm=auto, leaf_size=5, metric=minkowski, n_neighbors=13, p=2, weights=uniform\n",
      "[CV 3/3; 2/10] END algorithm=auto, leaf_size=5, metric=minkowski, n_neighbors=13, p=2, weights=uniform; total time=   4.6s\n",
      "[CV 1/3; 3/10] START algorithm=auto, leaf_size=8, metric=minkowski, n_neighbors=17, p=2, weights=distane\n"
     ]
    },
    {
     "name": "stderr",
     "output_type": "stream",
     "text": [
      "C:\\Users\\artem\\anaconda3\\lib\\site-packages\\sklearn\\model_selection\\_validation.py:683: UserWarning: Scoring failed. The score on this train-test partition for these parameters will be set to nan. Details: \n",
      "Traceback (most recent call last):\n",
      "  File \"C:\\Users\\artem\\anaconda3\\lib\\site-packages\\sklearn\\model_selection\\_validation.py\", line 674, in _score\n",
      "    scores = scorer(estimator, X_test, y_test)\n",
      "  File \"C:\\Users\\artem\\anaconda3\\lib\\site-packages\\sklearn\\metrics\\_scorer.py\", line 397, in _passthrough_scorer\n",
      "    return estimator.score(*args, **kwargs)\n",
      "  File \"C:\\Users\\artem\\anaconda3\\lib\\site-packages\\sklearn\\base.py\", line 500, in score\n",
      "    return accuracy_score(y, self.predict(X), sample_weight=sample_weight)\n",
      "  File \"C:\\Users\\artem\\anaconda3\\lib\\site-packages\\sklearn\\neighbors\\_classification.py\", line 206, in predict\n",
      "    weights = _get_weights(neigh_dist, self.weights)\n",
      "  File \"C:\\Users\\artem\\anaconda3\\lib\\site-packages\\sklearn\\neighbors\\_base.py\", line 111, in _get_weights\n",
      "    raise ValueError(\"weights not recognized: should be 'uniform', \"\n",
      "ValueError: weights not recognized: should be 'uniform', 'distance', or a callable function\n",
      "\n",
      "  warnings.warn(\n"
     ]
    },
    {
     "name": "stdout",
     "output_type": "stream",
     "text": [
      "[CV 1/3; 3/10] END algorithm=auto, leaf_size=8, metric=minkowski, n_neighbors=17, p=2, weights=distane; total time=   4.9s\n",
      "[CV 2/3; 3/10] START algorithm=auto, leaf_size=8, metric=minkowski, n_neighbors=17, p=2, weights=distane\n"
     ]
    },
    {
     "name": "stderr",
     "output_type": "stream",
     "text": [
      "C:\\Users\\artem\\anaconda3\\lib\\site-packages\\sklearn\\model_selection\\_validation.py:683: UserWarning: Scoring failed. The score on this train-test partition for these parameters will be set to nan. Details: \n",
      "Traceback (most recent call last):\n",
      "  File \"C:\\Users\\artem\\anaconda3\\lib\\site-packages\\sklearn\\model_selection\\_validation.py\", line 674, in _score\n",
      "    scores = scorer(estimator, X_test, y_test)\n",
      "  File \"C:\\Users\\artem\\anaconda3\\lib\\site-packages\\sklearn\\metrics\\_scorer.py\", line 397, in _passthrough_scorer\n",
      "    return estimator.score(*args, **kwargs)\n",
      "  File \"C:\\Users\\artem\\anaconda3\\lib\\site-packages\\sklearn\\base.py\", line 500, in score\n",
      "    return accuracy_score(y, self.predict(X), sample_weight=sample_weight)\n",
      "  File \"C:\\Users\\artem\\anaconda3\\lib\\site-packages\\sklearn\\neighbors\\_classification.py\", line 206, in predict\n",
      "    weights = _get_weights(neigh_dist, self.weights)\n",
      "  File \"C:\\Users\\artem\\anaconda3\\lib\\site-packages\\sklearn\\neighbors\\_base.py\", line 111, in _get_weights\n",
      "    raise ValueError(\"weights not recognized: should be 'uniform', \"\n",
      "ValueError: weights not recognized: should be 'uniform', 'distance', or a callable function\n",
      "\n",
      "  warnings.warn(\n"
     ]
    },
    {
     "name": "stdout",
     "output_type": "stream",
     "text": [
      "[CV 2/3; 3/10] END algorithm=auto, leaf_size=8, metric=minkowski, n_neighbors=17, p=2, weights=distane; total time=   5.0s\n",
      "[CV 3/3; 3/10] START algorithm=auto, leaf_size=8, metric=minkowski, n_neighbors=17, p=2, weights=distane\n"
     ]
    },
    {
     "name": "stderr",
     "output_type": "stream",
     "text": [
      "C:\\Users\\artem\\anaconda3\\lib\\site-packages\\sklearn\\model_selection\\_validation.py:683: UserWarning: Scoring failed. The score on this train-test partition for these parameters will be set to nan. Details: \n",
      "Traceback (most recent call last):\n",
      "  File \"C:\\Users\\artem\\anaconda3\\lib\\site-packages\\sklearn\\model_selection\\_validation.py\", line 674, in _score\n",
      "    scores = scorer(estimator, X_test, y_test)\n",
      "  File \"C:\\Users\\artem\\anaconda3\\lib\\site-packages\\sklearn\\metrics\\_scorer.py\", line 397, in _passthrough_scorer\n",
      "    return estimator.score(*args, **kwargs)\n",
      "  File \"C:\\Users\\artem\\anaconda3\\lib\\site-packages\\sklearn\\base.py\", line 500, in score\n",
      "    return accuracy_score(y, self.predict(X), sample_weight=sample_weight)\n",
      "  File \"C:\\Users\\artem\\anaconda3\\lib\\site-packages\\sklearn\\neighbors\\_classification.py\", line 206, in predict\n",
      "    weights = _get_weights(neigh_dist, self.weights)\n",
      "  File \"C:\\Users\\artem\\anaconda3\\lib\\site-packages\\sklearn\\neighbors\\_base.py\", line 111, in _get_weights\n",
      "    raise ValueError(\"weights not recognized: should be 'uniform', \"\n",
      "ValueError: weights not recognized: should be 'uniform', 'distance', or a callable function\n",
      "\n",
      "  warnings.warn(\n"
     ]
    },
    {
     "name": "stdout",
     "output_type": "stream",
     "text": [
      "[CV 3/3; 3/10] END algorithm=auto, leaf_size=8, metric=minkowski, n_neighbors=17, p=2, weights=distane; total time=   4.7s\n",
      "[CV 1/3; 4/10] START algorithm=auto, leaf_size=13, metric=minkowski, n_neighbors=8, p=1, weights=distane\n"
     ]
    },
    {
     "name": "stderr",
     "output_type": "stream",
     "text": [
      "C:\\Users\\artem\\anaconda3\\lib\\site-packages\\sklearn\\model_selection\\_validation.py:683: UserWarning: Scoring failed. The score on this train-test partition for these parameters will be set to nan. Details: \n",
      "Traceback (most recent call last):\n",
      "  File \"C:\\Users\\artem\\anaconda3\\lib\\site-packages\\sklearn\\model_selection\\_validation.py\", line 674, in _score\n",
      "    scores = scorer(estimator, X_test, y_test)\n",
      "  File \"C:\\Users\\artem\\anaconda3\\lib\\site-packages\\sklearn\\metrics\\_scorer.py\", line 397, in _passthrough_scorer\n",
      "    return estimator.score(*args, **kwargs)\n",
      "  File \"C:\\Users\\artem\\anaconda3\\lib\\site-packages\\sklearn\\base.py\", line 500, in score\n",
      "    return accuracy_score(y, self.predict(X), sample_weight=sample_weight)\n",
      "  File \"C:\\Users\\artem\\anaconda3\\lib\\site-packages\\sklearn\\neighbors\\_classification.py\", line 206, in predict\n",
      "    weights = _get_weights(neigh_dist, self.weights)\n",
      "  File \"C:\\Users\\artem\\anaconda3\\lib\\site-packages\\sklearn\\neighbors\\_base.py\", line 111, in _get_weights\n",
      "    raise ValueError(\"weights not recognized: should be 'uniform', \"\n",
      "ValueError: weights not recognized: should be 'uniform', 'distance', or a callable function\n",
      "\n",
      "  warnings.warn(\n"
     ]
    },
    {
     "name": "stdout",
     "output_type": "stream",
     "text": [
      "[CV 1/3; 4/10] END algorithm=auto, leaf_size=13, metric=minkowski, n_neighbors=8, p=1, weights=distane; total time=  15.4s\n",
      "[CV 2/3; 4/10] START algorithm=auto, leaf_size=13, metric=minkowski, n_neighbors=8, p=1, weights=distane\n"
     ]
    },
    {
     "name": "stderr",
     "output_type": "stream",
     "text": [
      "C:\\Users\\artem\\anaconda3\\lib\\site-packages\\sklearn\\model_selection\\_validation.py:683: UserWarning: Scoring failed. The score on this train-test partition for these parameters will be set to nan. Details: \n",
      "Traceback (most recent call last):\n",
      "  File \"C:\\Users\\artem\\anaconda3\\lib\\site-packages\\sklearn\\model_selection\\_validation.py\", line 674, in _score\n",
      "    scores = scorer(estimator, X_test, y_test)\n",
      "  File \"C:\\Users\\artem\\anaconda3\\lib\\site-packages\\sklearn\\metrics\\_scorer.py\", line 397, in _passthrough_scorer\n",
      "    return estimator.score(*args, **kwargs)\n",
      "  File \"C:\\Users\\artem\\anaconda3\\lib\\site-packages\\sklearn\\base.py\", line 500, in score\n",
      "    return accuracy_score(y, self.predict(X), sample_weight=sample_weight)\n",
      "  File \"C:\\Users\\artem\\anaconda3\\lib\\site-packages\\sklearn\\neighbors\\_classification.py\", line 206, in predict\n",
      "    weights = _get_weights(neigh_dist, self.weights)\n",
      "  File \"C:\\Users\\artem\\anaconda3\\lib\\site-packages\\sklearn\\neighbors\\_base.py\", line 111, in _get_weights\n",
      "    raise ValueError(\"weights not recognized: should be 'uniform', \"\n",
      "ValueError: weights not recognized: should be 'uniform', 'distance', or a callable function\n",
      "\n",
      "  warnings.warn(\n"
     ]
    },
    {
     "name": "stdout",
     "output_type": "stream",
     "text": [
      "[CV 2/3; 4/10] END algorithm=auto, leaf_size=13, metric=minkowski, n_neighbors=8, p=1, weights=distane; total time=  15.1s\n",
      "[CV 3/3; 4/10] START algorithm=auto, leaf_size=13, metric=minkowski, n_neighbors=8, p=1, weights=distane\n"
     ]
    },
    {
     "name": "stderr",
     "output_type": "stream",
     "text": [
      "C:\\Users\\artem\\anaconda3\\lib\\site-packages\\sklearn\\model_selection\\_validation.py:683: UserWarning: Scoring failed. The score on this train-test partition for these parameters will be set to nan. Details: \n",
      "Traceback (most recent call last):\n",
      "  File \"C:\\Users\\artem\\anaconda3\\lib\\site-packages\\sklearn\\model_selection\\_validation.py\", line 674, in _score\n",
      "    scores = scorer(estimator, X_test, y_test)\n",
      "  File \"C:\\Users\\artem\\anaconda3\\lib\\site-packages\\sklearn\\metrics\\_scorer.py\", line 397, in _passthrough_scorer\n",
      "    return estimator.score(*args, **kwargs)\n",
      "  File \"C:\\Users\\artem\\anaconda3\\lib\\site-packages\\sklearn\\base.py\", line 500, in score\n",
      "    return accuracy_score(y, self.predict(X), sample_weight=sample_weight)\n",
      "  File \"C:\\Users\\artem\\anaconda3\\lib\\site-packages\\sklearn\\neighbors\\_classification.py\", line 206, in predict\n",
      "    weights = _get_weights(neigh_dist, self.weights)\n",
      "  File \"C:\\Users\\artem\\anaconda3\\lib\\site-packages\\sklearn\\neighbors\\_base.py\", line 111, in _get_weights\n",
      "    raise ValueError(\"weights not recognized: should be 'uniform', \"\n",
      "ValueError: weights not recognized: should be 'uniform', 'distance', or a callable function\n",
      "\n",
      "  warnings.warn(\n"
     ]
    },
    {
     "name": "stdout",
     "output_type": "stream",
     "text": [
      "[CV 3/3; 4/10] END algorithm=auto, leaf_size=13, metric=minkowski, n_neighbors=8, p=1, weights=distane; total time=  15.1s\n",
      "[CV 1/3; 5/10] START algorithm=auto, leaf_size=7, metric=minkowski, n_neighbors=1, p=1, weights=distane\n"
     ]
    },
    {
     "name": "stderr",
     "output_type": "stream",
     "text": [
      "C:\\Users\\artem\\anaconda3\\lib\\site-packages\\sklearn\\model_selection\\_validation.py:683: UserWarning: Scoring failed. The score on this train-test partition for these parameters will be set to nan. Details: \n",
      "Traceback (most recent call last):\n",
      "  File \"C:\\Users\\artem\\anaconda3\\lib\\site-packages\\sklearn\\model_selection\\_validation.py\", line 674, in _score\n",
      "    scores = scorer(estimator, X_test, y_test)\n",
      "  File \"C:\\Users\\artem\\anaconda3\\lib\\site-packages\\sklearn\\metrics\\_scorer.py\", line 397, in _passthrough_scorer\n",
      "    return estimator.score(*args, **kwargs)\n",
      "  File \"C:\\Users\\artem\\anaconda3\\lib\\site-packages\\sklearn\\base.py\", line 500, in score\n",
      "    return accuracy_score(y, self.predict(X), sample_weight=sample_weight)\n",
      "  File \"C:\\Users\\artem\\anaconda3\\lib\\site-packages\\sklearn\\neighbors\\_classification.py\", line 206, in predict\n",
      "    weights = _get_weights(neigh_dist, self.weights)\n",
      "  File \"C:\\Users\\artem\\anaconda3\\lib\\site-packages\\sklearn\\neighbors\\_base.py\", line 111, in _get_weights\n",
      "    raise ValueError(\"weights not recognized: should be 'uniform', \"\n",
      "ValueError: weights not recognized: should be 'uniform', 'distance', or a callable function\n",
      "\n",
      "  warnings.warn(\n"
     ]
    },
    {
     "name": "stdout",
     "output_type": "stream",
     "text": [
      "[CV 1/3; 5/10] END algorithm=auto, leaf_size=7, metric=minkowski, n_neighbors=1, p=1, weights=distane; total time=  13.1s\n",
      "[CV 2/3; 5/10] START algorithm=auto, leaf_size=7, metric=minkowski, n_neighbors=1, p=1, weights=distane\n"
     ]
    },
    {
     "name": "stderr",
     "output_type": "stream",
     "text": [
      "C:\\Users\\artem\\anaconda3\\lib\\site-packages\\sklearn\\model_selection\\_validation.py:683: UserWarning: Scoring failed. The score on this train-test partition for these parameters will be set to nan. Details: \n",
      "Traceback (most recent call last):\n",
      "  File \"C:\\Users\\artem\\anaconda3\\lib\\site-packages\\sklearn\\model_selection\\_validation.py\", line 674, in _score\n",
      "    scores = scorer(estimator, X_test, y_test)\n",
      "  File \"C:\\Users\\artem\\anaconda3\\lib\\site-packages\\sklearn\\metrics\\_scorer.py\", line 397, in _passthrough_scorer\n",
      "    return estimator.score(*args, **kwargs)\n",
      "  File \"C:\\Users\\artem\\anaconda3\\lib\\site-packages\\sklearn\\base.py\", line 500, in score\n",
      "    return accuracy_score(y, self.predict(X), sample_weight=sample_weight)\n",
      "  File \"C:\\Users\\artem\\anaconda3\\lib\\site-packages\\sklearn\\neighbors\\_classification.py\", line 206, in predict\n",
      "    weights = _get_weights(neigh_dist, self.weights)\n",
      "  File \"C:\\Users\\artem\\anaconda3\\lib\\site-packages\\sklearn\\neighbors\\_base.py\", line 111, in _get_weights\n",
      "    raise ValueError(\"weights not recognized: should be 'uniform', \"\n",
      "ValueError: weights not recognized: should be 'uniform', 'distance', or a callable function\n",
      "\n",
      "  warnings.warn(\n"
     ]
    },
    {
     "name": "stdout",
     "output_type": "stream",
     "text": [
      "[CV 2/3; 5/10] END algorithm=auto, leaf_size=7, metric=minkowski, n_neighbors=1, p=1, weights=distane; total time=  13.3s\n",
      "[CV 3/3; 5/10] START algorithm=auto, leaf_size=7, metric=minkowski, n_neighbors=1, p=1, weights=distane\n"
     ]
    },
    {
     "name": "stderr",
     "output_type": "stream",
     "text": [
      "C:\\Users\\artem\\anaconda3\\lib\\site-packages\\sklearn\\model_selection\\_validation.py:683: UserWarning: Scoring failed. The score on this train-test partition for these parameters will be set to nan. Details: \n",
      "Traceback (most recent call last):\n",
      "  File \"C:\\Users\\artem\\anaconda3\\lib\\site-packages\\sklearn\\model_selection\\_validation.py\", line 674, in _score\n",
      "    scores = scorer(estimator, X_test, y_test)\n",
      "  File \"C:\\Users\\artem\\anaconda3\\lib\\site-packages\\sklearn\\metrics\\_scorer.py\", line 397, in _passthrough_scorer\n",
      "    return estimator.score(*args, **kwargs)\n",
      "  File \"C:\\Users\\artem\\anaconda3\\lib\\site-packages\\sklearn\\base.py\", line 500, in score\n",
      "    return accuracy_score(y, self.predict(X), sample_weight=sample_weight)\n",
      "  File \"C:\\Users\\artem\\anaconda3\\lib\\site-packages\\sklearn\\neighbors\\_classification.py\", line 206, in predict\n",
      "    weights = _get_weights(neigh_dist, self.weights)\n",
      "  File \"C:\\Users\\artem\\anaconda3\\lib\\site-packages\\sklearn\\neighbors\\_base.py\", line 111, in _get_weights\n",
      "    raise ValueError(\"weights not recognized: should be 'uniform', \"\n",
      "ValueError: weights not recognized: should be 'uniform', 'distance', or a callable function\n",
      "\n",
      "  warnings.warn(\n"
     ]
    },
    {
     "name": "stdout",
     "output_type": "stream",
     "text": [
      "[CV 3/3; 5/10] END algorithm=auto, leaf_size=7, metric=minkowski, n_neighbors=1, p=1, weights=distane; total time=  13.0s\n",
      "[CV 1/3; 6/10] START algorithm=auto, leaf_size=12, metric=minkowski, n_neighbors=17, p=2, weights=uniform\n",
      "[CV 1/3; 6/10] END algorithm=auto, leaf_size=12, metric=minkowski, n_neighbors=17, p=2, weights=uniform; total time=   4.8s\n",
      "[CV 2/3; 6/10] START algorithm=auto, leaf_size=12, metric=minkowski, n_neighbors=17, p=2, weights=uniform\n",
      "[CV 2/3; 6/10] END algorithm=auto, leaf_size=12, metric=minkowski, n_neighbors=17, p=2, weights=uniform; total time=   4.6s\n",
      "[CV 3/3; 6/10] START algorithm=auto, leaf_size=12, metric=minkowski, n_neighbors=17, p=2, weights=uniform\n",
      "[CV 3/3; 6/10] END algorithm=auto, leaf_size=12, metric=minkowski, n_neighbors=17, p=2, weights=uniform; total time=   4.8s\n",
      "[CV 1/3; 7/10] START algorithm=auto, leaf_size=12, metric=minkowski, n_neighbors=11, p=1, weights=uniform\n",
      "[CV 1/3; 7/10] END algorithm=auto, leaf_size=12, metric=minkowski, n_neighbors=11, p=1, weights=uniform; total time=  14.8s\n",
      "[CV 2/3; 7/10] START algorithm=auto, leaf_size=12, metric=minkowski, n_neighbors=11, p=1, weights=uniform\n",
      "[CV 2/3; 7/10] END algorithm=auto, leaf_size=12, metric=minkowski, n_neighbors=11, p=1, weights=uniform; total time=  15.1s\n",
      "[CV 3/3; 7/10] START algorithm=auto, leaf_size=12, metric=minkowski, n_neighbors=11, p=1, weights=uniform\n",
      "[CV 3/3; 7/10] END algorithm=auto, leaf_size=12, metric=minkowski, n_neighbors=11, p=1, weights=uniform; total time=  15.0s\n",
      "[CV 1/3; 8/10] START algorithm=auto, leaf_size=12, metric=minkowski, n_neighbors=1, p=2, weights=distane\n"
     ]
    },
    {
     "name": "stderr",
     "output_type": "stream",
     "text": [
      "C:\\Users\\artem\\anaconda3\\lib\\site-packages\\sklearn\\model_selection\\_validation.py:683: UserWarning: Scoring failed. The score on this train-test partition for these parameters will be set to nan. Details: \n",
      "Traceback (most recent call last):\n",
      "  File \"C:\\Users\\artem\\anaconda3\\lib\\site-packages\\sklearn\\model_selection\\_validation.py\", line 674, in _score\n",
      "    scores = scorer(estimator, X_test, y_test)\n",
      "  File \"C:\\Users\\artem\\anaconda3\\lib\\site-packages\\sklearn\\metrics\\_scorer.py\", line 397, in _passthrough_scorer\n",
      "    return estimator.score(*args, **kwargs)\n",
      "  File \"C:\\Users\\artem\\anaconda3\\lib\\site-packages\\sklearn\\base.py\", line 500, in score\n",
      "    return accuracy_score(y, self.predict(X), sample_weight=sample_weight)\n",
      "  File \"C:\\Users\\artem\\anaconda3\\lib\\site-packages\\sklearn\\neighbors\\_classification.py\", line 206, in predict\n",
      "    weights = _get_weights(neigh_dist, self.weights)\n",
      "  File \"C:\\Users\\artem\\anaconda3\\lib\\site-packages\\sklearn\\neighbors\\_base.py\", line 111, in _get_weights\n",
      "    raise ValueError(\"weights not recognized: should be 'uniform', \"\n",
      "ValueError: weights not recognized: should be 'uniform', 'distance', or a callable function\n",
      "\n",
      "  warnings.warn(\n"
     ]
    },
    {
     "name": "stdout",
     "output_type": "stream",
     "text": [
      "[CV 1/3; 8/10] END algorithm=auto, leaf_size=12, metric=minkowski, n_neighbors=1, p=2, weights=distane; total time=   2.5s\n",
      "[CV 2/3; 8/10] START algorithm=auto, leaf_size=12, metric=minkowski, n_neighbors=1, p=2, weights=distane\n"
     ]
    },
    {
     "name": "stderr",
     "output_type": "stream",
     "text": [
      "C:\\Users\\artem\\anaconda3\\lib\\site-packages\\sklearn\\model_selection\\_validation.py:683: UserWarning: Scoring failed. The score on this train-test partition for these parameters will be set to nan. Details: \n",
      "Traceback (most recent call last):\n",
      "  File \"C:\\Users\\artem\\anaconda3\\lib\\site-packages\\sklearn\\model_selection\\_validation.py\", line 674, in _score\n",
      "    scores = scorer(estimator, X_test, y_test)\n",
      "  File \"C:\\Users\\artem\\anaconda3\\lib\\site-packages\\sklearn\\metrics\\_scorer.py\", line 397, in _passthrough_scorer\n",
      "    return estimator.score(*args, **kwargs)\n",
      "  File \"C:\\Users\\artem\\anaconda3\\lib\\site-packages\\sklearn\\base.py\", line 500, in score\n",
      "    return accuracy_score(y, self.predict(X), sample_weight=sample_weight)\n",
      "  File \"C:\\Users\\artem\\anaconda3\\lib\\site-packages\\sklearn\\neighbors\\_classification.py\", line 206, in predict\n",
      "    weights = _get_weights(neigh_dist, self.weights)\n",
      "  File \"C:\\Users\\artem\\anaconda3\\lib\\site-packages\\sklearn\\neighbors\\_base.py\", line 111, in _get_weights\n",
      "    raise ValueError(\"weights not recognized: should be 'uniform', \"\n",
      "ValueError: weights not recognized: should be 'uniform', 'distance', or a callable function\n",
      "\n",
      "  warnings.warn(\n"
     ]
    },
    {
     "name": "stdout",
     "output_type": "stream",
     "text": [
      "[CV 2/3; 8/10] END algorithm=auto, leaf_size=12, metric=minkowski, n_neighbors=1, p=2, weights=distane; total time=   2.7s\n",
      "[CV 3/3; 8/10] START algorithm=auto, leaf_size=12, metric=minkowski, n_neighbors=1, p=2, weights=distane\n"
     ]
    },
    {
     "name": "stderr",
     "output_type": "stream",
     "text": [
      "C:\\Users\\artem\\anaconda3\\lib\\site-packages\\sklearn\\model_selection\\_validation.py:683: UserWarning: Scoring failed. The score on this train-test partition for these parameters will be set to nan. Details: \n",
      "Traceback (most recent call last):\n",
      "  File \"C:\\Users\\artem\\anaconda3\\lib\\site-packages\\sklearn\\model_selection\\_validation.py\", line 674, in _score\n",
      "    scores = scorer(estimator, X_test, y_test)\n",
      "  File \"C:\\Users\\artem\\anaconda3\\lib\\site-packages\\sklearn\\metrics\\_scorer.py\", line 397, in _passthrough_scorer\n",
      "    return estimator.score(*args, **kwargs)\n",
      "  File \"C:\\Users\\artem\\anaconda3\\lib\\site-packages\\sklearn\\base.py\", line 500, in score\n",
      "    return accuracy_score(y, self.predict(X), sample_weight=sample_weight)\n",
      "  File \"C:\\Users\\artem\\anaconda3\\lib\\site-packages\\sklearn\\neighbors\\_classification.py\", line 206, in predict\n",
      "    weights = _get_weights(neigh_dist, self.weights)\n",
      "  File \"C:\\Users\\artem\\anaconda3\\lib\\site-packages\\sklearn\\neighbors\\_base.py\", line 111, in _get_weights\n",
      "    raise ValueError(\"weights not recognized: should be 'uniform', \"\n",
      "ValueError: weights not recognized: should be 'uniform', 'distance', or a callable function\n",
      "\n",
      "  warnings.warn(\n"
     ]
    },
    {
     "name": "stdout",
     "output_type": "stream",
     "text": [
      "[CV 3/3; 8/10] END algorithm=auto, leaf_size=12, metric=minkowski, n_neighbors=1, p=2, weights=distane; total time=   2.7s\n",
      "[CV 1/3; 9/10] START algorithm=auto, leaf_size=11, metric=minkowski, n_neighbors=15, p=1, weights=distane\n"
     ]
    },
    {
     "name": "stderr",
     "output_type": "stream",
     "text": [
      "C:\\Users\\artem\\anaconda3\\lib\\site-packages\\sklearn\\model_selection\\_validation.py:683: UserWarning: Scoring failed. The score on this train-test partition for these parameters will be set to nan. Details: \n",
      "Traceback (most recent call last):\n",
      "  File \"C:\\Users\\artem\\anaconda3\\lib\\site-packages\\sklearn\\model_selection\\_validation.py\", line 674, in _score\n",
      "    scores = scorer(estimator, X_test, y_test)\n",
      "  File \"C:\\Users\\artem\\anaconda3\\lib\\site-packages\\sklearn\\metrics\\_scorer.py\", line 397, in _passthrough_scorer\n",
      "    return estimator.score(*args, **kwargs)\n",
      "  File \"C:\\Users\\artem\\anaconda3\\lib\\site-packages\\sklearn\\base.py\", line 500, in score\n",
      "    return accuracy_score(y, self.predict(X), sample_weight=sample_weight)\n",
      "  File \"C:\\Users\\artem\\anaconda3\\lib\\site-packages\\sklearn\\neighbors\\_classification.py\", line 206, in predict\n",
      "    weights = _get_weights(neigh_dist, self.weights)\n",
      "  File \"C:\\Users\\artem\\anaconda3\\lib\\site-packages\\sklearn\\neighbors\\_base.py\", line 111, in _get_weights\n",
      "    raise ValueError(\"weights not recognized: should be 'uniform', \"\n",
      "ValueError: weights not recognized: should be 'uniform', 'distance', or a callable function\n",
      "\n",
      "  warnings.warn(\n"
     ]
    },
    {
     "name": "stdout",
     "output_type": "stream",
     "text": [
      "[CV 1/3; 9/10] END algorithm=auto, leaf_size=11, metric=minkowski, n_neighbors=15, p=1, weights=distane; total time=  15.6s\n",
      "[CV 2/3; 9/10] START algorithm=auto, leaf_size=11, metric=minkowski, n_neighbors=15, p=1, weights=distane\n"
     ]
    },
    {
     "name": "stderr",
     "output_type": "stream",
     "text": [
      "C:\\Users\\artem\\anaconda3\\lib\\site-packages\\sklearn\\model_selection\\_validation.py:683: UserWarning: Scoring failed. The score on this train-test partition for these parameters will be set to nan. Details: \n",
      "Traceback (most recent call last):\n",
      "  File \"C:\\Users\\artem\\anaconda3\\lib\\site-packages\\sklearn\\model_selection\\_validation.py\", line 674, in _score\n",
      "    scores = scorer(estimator, X_test, y_test)\n",
      "  File \"C:\\Users\\artem\\anaconda3\\lib\\site-packages\\sklearn\\metrics\\_scorer.py\", line 397, in _passthrough_scorer\n",
      "    return estimator.score(*args, **kwargs)\n",
      "  File \"C:\\Users\\artem\\anaconda3\\lib\\site-packages\\sklearn\\base.py\", line 500, in score\n",
      "    return accuracy_score(y, self.predict(X), sample_weight=sample_weight)\n",
      "  File \"C:\\Users\\artem\\anaconda3\\lib\\site-packages\\sklearn\\neighbors\\_classification.py\", line 206, in predict\n",
      "    weights = _get_weights(neigh_dist, self.weights)\n",
      "  File \"C:\\Users\\artem\\anaconda3\\lib\\site-packages\\sklearn\\neighbors\\_base.py\", line 111, in _get_weights\n",
      "    raise ValueError(\"weights not recognized: should be 'uniform', \"\n",
      "ValueError: weights not recognized: should be 'uniform', 'distance', or a callable function\n",
      "\n",
      "  warnings.warn(\n"
     ]
    },
    {
     "name": "stdout",
     "output_type": "stream",
     "text": [
      "[CV 2/3; 9/10] END algorithm=auto, leaf_size=11, metric=minkowski, n_neighbors=15, p=1, weights=distane; total time=  15.3s\n",
      "[CV 3/3; 9/10] START algorithm=auto, leaf_size=11, metric=minkowski, n_neighbors=15, p=1, weights=distane\n"
     ]
    },
    {
     "name": "stderr",
     "output_type": "stream",
     "text": [
      "C:\\Users\\artem\\anaconda3\\lib\\site-packages\\sklearn\\model_selection\\_validation.py:683: UserWarning: Scoring failed. The score on this train-test partition for these parameters will be set to nan. Details: \n",
      "Traceback (most recent call last):\n",
      "  File \"C:\\Users\\artem\\anaconda3\\lib\\site-packages\\sklearn\\model_selection\\_validation.py\", line 674, in _score\n",
      "    scores = scorer(estimator, X_test, y_test)\n",
      "  File \"C:\\Users\\artem\\anaconda3\\lib\\site-packages\\sklearn\\metrics\\_scorer.py\", line 397, in _passthrough_scorer\n",
      "    return estimator.score(*args, **kwargs)\n",
      "  File \"C:\\Users\\artem\\anaconda3\\lib\\site-packages\\sklearn\\base.py\", line 500, in score\n",
      "    return accuracy_score(y, self.predict(X), sample_weight=sample_weight)\n",
      "  File \"C:\\Users\\artem\\anaconda3\\lib\\site-packages\\sklearn\\neighbors\\_classification.py\", line 206, in predict\n",
      "    weights = _get_weights(neigh_dist, self.weights)\n",
      "  File \"C:\\Users\\artem\\anaconda3\\lib\\site-packages\\sklearn\\neighbors\\_base.py\", line 111, in _get_weights\n",
      "    raise ValueError(\"weights not recognized: should be 'uniform', \"\n",
      "ValueError: weights not recognized: should be 'uniform', 'distance', or a callable function\n",
      "\n",
      "  warnings.warn(\n"
     ]
    },
    {
     "name": "stdout",
     "output_type": "stream",
     "text": [
      "[CV 3/3; 9/10] END algorithm=auto, leaf_size=11, metric=minkowski, n_neighbors=15, p=1, weights=distane; total time=  15.0s\n",
      "[CV 1/3; 10/10] START algorithm=auto, leaf_size=10, metric=minkowski, n_neighbors=14, p=2, weights=distane\n"
     ]
    },
    {
     "name": "stderr",
     "output_type": "stream",
     "text": [
      "C:\\Users\\artem\\anaconda3\\lib\\site-packages\\sklearn\\model_selection\\_validation.py:683: UserWarning: Scoring failed. The score on this train-test partition for these parameters will be set to nan. Details: \n",
      "Traceback (most recent call last):\n",
      "  File \"C:\\Users\\artem\\anaconda3\\lib\\site-packages\\sklearn\\model_selection\\_validation.py\", line 674, in _score\n",
      "    scores = scorer(estimator, X_test, y_test)\n",
      "  File \"C:\\Users\\artem\\anaconda3\\lib\\site-packages\\sklearn\\metrics\\_scorer.py\", line 397, in _passthrough_scorer\n",
      "    return estimator.score(*args, **kwargs)\n",
      "  File \"C:\\Users\\artem\\anaconda3\\lib\\site-packages\\sklearn\\base.py\", line 500, in score\n",
      "    return accuracy_score(y, self.predict(X), sample_weight=sample_weight)\n",
      "  File \"C:\\Users\\artem\\anaconda3\\lib\\site-packages\\sklearn\\neighbors\\_classification.py\", line 206, in predict\n",
      "    weights = _get_weights(neigh_dist, self.weights)\n",
      "  File \"C:\\Users\\artem\\anaconda3\\lib\\site-packages\\sklearn\\neighbors\\_base.py\", line 111, in _get_weights\n",
      "    raise ValueError(\"weights not recognized: should be 'uniform', \"\n",
      "ValueError: weights not recognized: should be 'uniform', 'distance', or a callable function\n",
      "\n",
      "  warnings.warn(\n"
     ]
    },
    {
     "name": "stdout",
     "output_type": "stream",
     "text": [
      "[CV 1/3; 10/10] END algorithm=auto, leaf_size=10, metric=minkowski, n_neighbors=14, p=2, weights=distane; total time=   4.7s\n",
      "[CV 2/3; 10/10] START algorithm=auto, leaf_size=10, metric=minkowski, n_neighbors=14, p=2, weights=distane\n"
     ]
    },
    {
     "name": "stderr",
     "output_type": "stream",
     "text": [
      "C:\\Users\\artem\\anaconda3\\lib\\site-packages\\sklearn\\model_selection\\_validation.py:683: UserWarning: Scoring failed. The score on this train-test partition for these parameters will be set to nan. Details: \n",
      "Traceback (most recent call last):\n",
      "  File \"C:\\Users\\artem\\anaconda3\\lib\\site-packages\\sklearn\\model_selection\\_validation.py\", line 674, in _score\n",
      "    scores = scorer(estimator, X_test, y_test)\n",
      "  File \"C:\\Users\\artem\\anaconda3\\lib\\site-packages\\sklearn\\metrics\\_scorer.py\", line 397, in _passthrough_scorer\n",
      "    return estimator.score(*args, **kwargs)\n",
      "  File \"C:\\Users\\artem\\anaconda3\\lib\\site-packages\\sklearn\\base.py\", line 500, in score\n",
      "    return accuracy_score(y, self.predict(X), sample_weight=sample_weight)\n",
      "  File \"C:\\Users\\artem\\anaconda3\\lib\\site-packages\\sklearn\\neighbors\\_classification.py\", line 206, in predict\n",
      "    weights = _get_weights(neigh_dist, self.weights)\n",
      "  File \"C:\\Users\\artem\\anaconda3\\lib\\site-packages\\sklearn\\neighbors\\_base.py\", line 111, in _get_weights\n",
      "    raise ValueError(\"weights not recognized: should be 'uniform', \"\n",
      "ValueError: weights not recognized: should be 'uniform', 'distance', or a callable function\n",
      "\n",
      "  warnings.warn(\n"
     ]
    },
    {
     "name": "stdout",
     "output_type": "stream",
     "text": [
      "[CV 2/3; 10/10] END algorithm=auto, leaf_size=10, metric=minkowski, n_neighbors=14, p=2, weights=distane; total time=   4.6s\n",
      "[CV 3/3; 10/10] START algorithm=auto, leaf_size=10, metric=minkowski, n_neighbors=14, p=2, weights=distane\n",
      "[CV 3/3; 10/10] END algorithm=auto, leaf_size=10, metric=minkowski, n_neighbors=14, p=2, weights=distane; total time=   4.7s\n"
     ]
    },
    {
     "name": "stderr",
     "output_type": "stream",
     "text": [
      "C:\\Users\\artem\\anaconda3\\lib\\site-packages\\sklearn\\model_selection\\_validation.py:683: UserWarning: Scoring failed. The score on this train-test partition for these parameters will be set to nan. Details: \n",
      "Traceback (most recent call last):\n",
      "  File \"C:\\Users\\artem\\anaconda3\\lib\\site-packages\\sklearn\\model_selection\\_validation.py\", line 674, in _score\n",
      "    scores = scorer(estimator, X_test, y_test)\n",
      "  File \"C:\\Users\\artem\\anaconda3\\lib\\site-packages\\sklearn\\metrics\\_scorer.py\", line 397, in _passthrough_scorer\n",
      "    return estimator.score(*args, **kwargs)\n",
      "  File \"C:\\Users\\artem\\anaconda3\\lib\\site-packages\\sklearn\\base.py\", line 500, in score\n",
      "    return accuracy_score(y, self.predict(X), sample_weight=sample_weight)\n",
      "  File \"C:\\Users\\artem\\anaconda3\\lib\\site-packages\\sklearn\\neighbors\\_classification.py\", line 206, in predict\n",
      "    weights = _get_weights(neigh_dist, self.weights)\n",
      "  File \"C:\\Users\\artem\\anaconda3\\lib\\site-packages\\sklearn\\neighbors\\_base.py\", line 111, in _get_weights\n",
      "    raise ValueError(\"weights not recognized: should be 'uniform', \"\n",
      "ValueError: weights not recognized: should be 'uniform', 'distance', or a callable function\n",
      "\n",
      "  warnings.warn(\n",
      "C:\\Users\\artem\\anaconda3\\lib\\site-packages\\sklearn\\model_selection\\_search.py:918: UserWarning: One or more of the test scores are non-finite: [       nan 0.83241491        nan        nan        nan 0.83363276\n",
      " 0.83582514        nan        nan        nan]\n",
      "  warnings.warn(\n"
     ]
    },
    {
     "data": {
      "text/plain": [
       "{'weights': 'uniform',\n",
       " 'p': 1,\n",
       " 'n_neighbors': 11,\n",
       " 'metric': 'minkowski',\n",
       " 'leaf_size': 12,\n",
       " 'algorithm': 'auto'}"
      ]
     },
     "execution_count": 43,
     "metadata": {},
     "output_type": "execute_result"
    }
   ],
   "source": [
    "from sklearn.neighbors import KNeighborsClassifier\n",
    "knn_clf= KNeighborsClassifier()\n",
    "\n",
    "#Hyperparameters\n",
    "\n",
    "n_neighbors= list(range(1,20))\n",
    "metric=['minkowski']\n",
    "p=[1,2]\n",
    "algorithm=['auto']\n",
    "weights=['uniform', 'distane']\n",
    "leaf_size=list(range(1,20))\n",
    "\n",
    "\n",
    "#Putting the hypreparameters in form of dictionary \n",
    "\n",
    "knn_hyperparameters= dict(n_neighbors= n_neighbors, \n",
    "                          metric=metric, \n",
    "                         weights=weights,\n",
    "                         algorithm=algorithm, \n",
    "                         p=p, \n",
    "                         leaf_size= leaf_size)\n",
    "\n",
    "\n",
    "knn_gridsearch= RandomizedSearchCV(estimator=knn_clf,\n",
    "                                  param_distributions=knn_hyperparameters, \n",
    "                                  cv=3, verbose=10)\n",
    "\n",
    "\n",
    "knn_gridsearch.fit(X_train, y_train)\n",
    "\n",
    "\n",
    "knn_gridsearch.best_params_"
   ]
  },
  {
   "cell_type": "code",
   "execution_count": 44,
   "id": "649c594b",
   "metadata": {},
   "outputs": [
    {
     "name": "stdout",
     "output_type": "stream",
     "text": [
      "\n",
      " Confuision Matrix: \n",
      " [[6203 2163]\n",
      " [ 944 1638]]\n",
      "\n",
      " Classification Report: \n",
      "               precision    recall  f1-score   support\n",
      "\n",
      "           0       0.87      0.74      0.80      8366\n",
      "           1       0.43      0.63      0.51      2582\n",
      "\n",
      "    accuracy                           0.72     10948\n",
      "   macro avg       0.65      0.69      0.66     10948\n",
      "weighted avg       0.76      0.72      0.73     10948\n",
      "\n"
     ]
    }
   ],
   "source": [
    "# Model will take some time to train. While it is at it we will make setup to evaluate the model\n",
    "\n",
    "#Predict the test tesults\n",
    "\n",
    "knn_y_predict= knn_gridsearch.predict(X_test)\n",
    "\n",
    "\n",
    "#Model Evaluation ; Confusion Matrix, Classification report, accuracy_score \n",
    "\n",
    "\n",
    "print ('\\n Confuision Matrix: \\n', confusion_matrix(y_test,knn_y_predict ))\n",
    "print ('\\n Classification Report: \\n', classification_report(y_test,knn_y_predict ))\n",
    "knn_accuracy= accuracy_score(y_test,knn_y_predict)\n",
    "\n",
    "#Append the value of accuracy in the dataframe that we created earlier \n",
    "\n",
    "result.loc[0]= ['KNN classifier', knn_accuracy]\n",
    "\n",
    "\n",
    "# Our model is still training... We wil wait for it to complete. \n",
    "#The above code will be reused by us in other modelels by using copy paste and modifying some values "
   ]
  },
  {
   "cell_type": "markdown",
   "id": "5df25b35",
   "metadata": {},
   "source": [
    "# 2) Decision Tree "
   ]
  },
  {
   "cell_type": "code",
   "execution_count": 49,
   "id": "9e002e5d",
   "metadata": {},
   "outputs": [
    {
     "name": "stdout",
     "output_type": "stream",
     "text": [
      "Fitting 3 folds for each of 10 candidates, totalling 30 fits\n",
      "[CV 1/3; 1/10] START criterion=entropy, max_depth=90, max_features=sqrt, min_samples_leaf=4, min_samples_split=5, splitter=best\n",
      "[CV 1/3; 1/10] END criterion=entropy, max_depth=90, max_features=sqrt, min_samples_leaf=4, min_samples_split=5, splitter=best; total time=   0.0s\n",
      "[CV 2/3; 1/10] START criterion=entropy, max_depth=90, max_features=sqrt, min_samples_leaf=4, min_samples_split=5, splitter=best\n",
      "[CV 2/3; 1/10] END criterion=entropy, max_depth=90, max_features=sqrt, min_samples_leaf=4, min_samples_split=5, splitter=best; total time=   0.0s\n",
      "[CV 3/3; 1/10] START criterion=entropy, max_depth=90, max_features=sqrt, min_samples_leaf=4, min_samples_split=5, splitter=best\n",
      "[CV 3/3; 1/10] END criterion=entropy, max_depth=90, max_features=sqrt, min_samples_leaf=4, min_samples_split=5, splitter=best; total time=   0.0s\n",
      "[CV 1/3; 2/10] START criterion=gini, max_depth=50, max_features=sqrt, min_samples_leaf=2, min_samples_split=5, splitter=best\n",
      "[CV 1/3; 2/10] END criterion=gini, max_depth=50, max_features=sqrt, min_samples_leaf=2, min_samples_split=5, splitter=best; total time=   0.0s\n",
      "[CV 2/3; 2/10] START criterion=gini, max_depth=50, max_features=sqrt, min_samples_leaf=2, min_samples_split=5, splitter=best\n",
      "[CV 2/3; 2/10] END criterion=gini, max_depth=50, max_features=sqrt, min_samples_leaf=2, min_samples_split=5, splitter=best; total time=   0.0s\n",
      "[CV 3/3; 2/10] START criterion=gini, max_depth=50, max_features=sqrt, min_samples_leaf=2, min_samples_split=5, splitter=best\n",
      "[CV 3/3; 2/10] END criterion=gini, max_depth=50, max_features=sqrt, min_samples_leaf=2, min_samples_split=5, splitter=best; total time=   0.0s\n",
      "[CV 1/3; 3/10] START criterion=gini, max_depth=80, max_features=sqrt, min_samples_leaf=4, min_samples_split=2, splitter=random\n",
      "[CV 1/3; 3/10] END criterion=gini, max_depth=80, max_features=sqrt, min_samples_leaf=4, min_samples_split=2, splitter=random; total time=   0.0s\n",
      "[CV 2/3; 3/10] START criterion=gini, max_depth=80, max_features=sqrt, min_samples_leaf=4, min_samples_split=2, splitter=random\n",
      "[CV 2/3; 3/10] END criterion=gini, max_depth=80, max_features=sqrt, min_samples_leaf=4, min_samples_split=2, splitter=random; total time=   0.0s\n",
      "[CV 3/3; 3/10] START criterion=gini, max_depth=80, max_features=sqrt, min_samples_leaf=4, min_samples_split=2, splitter=random\n",
      "[CV 3/3; 3/10] END criterion=gini, max_depth=80, max_features=sqrt, min_samples_leaf=4, min_samples_split=2, splitter=random; total time=   0.0s\n",
      "[CV 1/3; 4/10] START criterion=entropy, max_depth=10, max_features=log2, min_samples_leaf=1, min_samples_split=2, splitter=best\n",
      "[CV 1/3; 4/10] END criterion=entropy, max_depth=10, max_features=log2, min_samples_leaf=1, min_samples_split=2, splitter=best; total time=   0.0s\n",
      "[CV 2/3; 4/10] START criterion=entropy, max_depth=10, max_features=log2, min_samples_leaf=1, min_samples_split=2, splitter=best\n",
      "[CV 2/3; 4/10] END criterion=entropy, max_depth=10, max_features=log2, min_samples_leaf=1, min_samples_split=2, splitter=best; total time=   0.0s\n",
      "[CV 3/3; 4/10] START criterion=entropy, max_depth=10, max_features=log2, min_samples_leaf=1, min_samples_split=2, splitter=best\n",
      "[CV 3/3; 4/10] END criterion=entropy, max_depth=10, max_features=log2, min_samples_leaf=1, min_samples_split=2, splitter=best; total time=   0.0s\n",
      "[CV 1/3; 5/10] START criterion=entropy, max_depth=40, max_features=auto, min_samples_leaf=4, min_samples_split=10, splitter=random\n",
      "[CV 1/3; 5/10] END criterion=entropy, max_depth=40, max_features=auto, min_samples_leaf=4, min_samples_split=10, splitter=random; total time=   0.0s\n",
      "[CV 2/3; 5/10] START criterion=entropy, max_depth=40, max_features=auto, min_samples_leaf=4, min_samples_split=10, splitter=random\n",
      "[CV 2/3; 5/10] END criterion=entropy, max_depth=40, max_features=auto, min_samples_leaf=4, min_samples_split=10, splitter=random; total time=   0.0s\n",
      "[CV 3/3; 5/10] START criterion=entropy, max_depth=40, max_features=auto, min_samples_leaf=4, min_samples_split=10, splitter=random\n",
      "[CV 3/3; 5/10] END criterion=entropy, max_depth=40, max_features=auto, min_samples_leaf=4, min_samples_split=10, splitter=random; total time=   0.0s\n",
      "[CV 1/3; 6/10] START criterion=gini, max_depth=60, max_features=auto, min_samples_leaf=2, min_samples_split=10, splitter=best\n",
      "[CV 1/3; 6/10] END criterion=gini, max_depth=60, max_features=auto, min_samples_leaf=2, min_samples_split=10, splitter=best; total time=   0.0s\n",
      "[CV 2/3; 6/10] START criterion=gini, max_depth=60, max_features=auto, min_samples_leaf=2, min_samples_split=10, splitter=best\n",
      "[CV 2/3; 6/10] END criterion=gini, max_depth=60, max_features=auto, min_samples_leaf=2, min_samples_split=10, splitter=best; total time=   0.0s\n",
      "[CV 3/3; 6/10] START criterion=gini, max_depth=60, max_features=auto, min_samples_leaf=2, min_samples_split=10, splitter=best\n",
      "[CV 3/3; 6/10] END criterion=gini, max_depth=60, max_features=auto, min_samples_leaf=2, min_samples_split=10, splitter=best; total time=   0.0s\n",
      "[CV 1/3; 7/10] START criterion=gini, max_depth=90, max_features=sqrt, min_samples_leaf=4, min_samples_split=2, splitter=random\n",
      "[CV 1/3; 7/10] END criterion=gini, max_depth=90, max_features=sqrt, min_samples_leaf=4, min_samples_split=2, splitter=random; total time=   0.0s\n",
      "[CV 2/3; 7/10] START criterion=gini, max_depth=90, max_features=sqrt, min_samples_leaf=4, min_samples_split=2, splitter=random\n",
      "[CV 2/3; 7/10] END criterion=gini, max_depth=90, max_features=sqrt, min_samples_leaf=4, min_samples_split=2, splitter=random; total time=   0.0s\n",
      "[CV 3/3; 7/10] START criterion=gini, max_depth=90, max_features=sqrt, min_samples_leaf=4, min_samples_split=2, splitter=random\n",
      "[CV 3/3; 7/10] END criterion=gini, max_depth=90, max_features=sqrt, min_samples_leaf=4, min_samples_split=2, splitter=random; total time=   0.0s\n",
      "[CV 1/3; 8/10] START criterion=entropy, max_depth=10, max_features=sqrt, min_samples_leaf=2, min_samples_split=5, splitter=best\n",
      "[CV 1/3; 8/10] END criterion=entropy, max_depth=10, max_features=sqrt, min_samples_leaf=2, min_samples_split=5, splitter=best; total time=   0.0s\n",
      "[CV 2/3; 8/10] START criterion=entropy, max_depth=10, max_features=sqrt, min_samples_leaf=2, min_samples_split=5, splitter=best\n",
      "[CV 2/3; 8/10] END criterion=entropy, max_depth=10, max_features=sqrt, min_samples_leaf=2, min_samples_split=5, splitter=best; total time=   0.0s\n",
      "[CV 3/3; 8/10] START criterion=entropy, max_depth=10, max_features=sqrt, min_samples_leaf=2, min_samples_split=5, splitter=best\n",
      "[CV 3/3; 8/10] END criterion=entropy, max_depth=10, max_features=sqrt, min_samples_leaf=2, min_samples_split=5, splitter=best; total time=   0.0s\n",
      "[CV 1/3; 9/10] START criterion=gini, max_depth=30, max_features=log2, min_samples_leaf=2, min_samples_split=5, splitter=random\n",
      "[CV 1/3; 9/10] END criterion=gini, max_depth=30, max_features=log2, min_samples_leaf=2, min_samples_split=5, splitter=random; total time=   0.0s\n",
      "[CV 2/3; 9/10] START criterion=gini, max_depth=30, max_features=log2, min_samples_leaf=2, min_samples_split=5, splitter=random\n",
      "[CV 2/3; 9/10] END criterion=gini, max_depth=30, max_features=log2, min_samples_leaf=2, min_samples_split=5, splitter=random; total time=   0.0s\n",
      "[CV 3/3; 9/10] START criterion=gini, max_depth=30, max_features=log2, min_samples_leaf=2, min_samples_split=5, splitter=random\n",
      "[CV 3/3; 9/10] END criterion=gini, max_depth=30, max_features=log2, min_samples_leaf=2, min_samples_split=5, splitter=random; total time=   0.0s\n",
      "[CV 1/3; 10/10] START criterion=entropy, max_depth=20, max_features=sqrt, min_samples_leaf=1, min_samples_split=5, splitter=random\n",
      "[CV 1/3; 10/10] END criterion=entropy, max_depth=20, max_features=sqrt, min_samples_leaf=1, min_samples_split=5, splitter=random; total time=   0.0s\n",
      "[CV 2/3; 10/10] START criterion=entropy, max_depth=20, max_features=sqrt, min_samples_leaf=1, min_samples_split=5, splitter=random\n",
      "[CV 2/3; 10/10] END criterion=entropy, max_depth=20, max_features=sqrt, min_samples_leaf=1, min_samples_split=5, splitter=random; total time=   0.0s\n",
      "[CV 3/3; 10/10] START criterion=entropy, max_depth=20, max_features=sqrt, min_samples_leaf=1, min_samples_split=5, splitter=random\n",
      "[CV 3/3; 10/10] END criterion=entropy, max_depth=20, max_features=sqrt, min_samples_leaf=1, min_samples_split=5, splitter=random; total time=   0.0s\n"
     ]
    },
    {
     "data": {
      "text/plain": [
       "RandomizedSearchCV(cv=3, estimator=DecisionTreeClassifier(),\n",
       "                   param_distributions={'criterion': ['gini', 'entropy'],\n",
       "                                        'max_depth': [10, 20, 30, 40, 50, 60,\n",
       "                                                      70, 80, 90],\n",
       "                                        'max_features': ['auto', 'sqrt', 'log2',\n",
       "                                                         None],\n",
       "                                        'min_samples_leaf': [1, 2, 4],\n",
       "                                        'min_samples_split': [2, 5, 10],\n",
       "                                        'splitter': ['best', 'random']},\n",
       "                   verbose=10)"
      ]
     },
     "execution_count": 49,
     "metadata": {},
     "output_type": "execute_result"
    }
   ],
   "source": [
    "from sklearn.tree import DecisionTreeClassifier\n",
    "dt_clf= DecisionTreeClassifier()\n",
    "\n",
    "#Hyperparameters\n",
    "\n",
    "criterion=['gini', 'entropy']\n",
    "splitter=['best', 'random']\n",
    "\n",
    "min_samples_leaf=[1,2,4]\n",
    "min_samples_split=[2,5,10]\n",
    "\n",
    "max_depth= list(range(10,100, 10))\n",
    "max_features=['auto', 'sqrt', 'log2', None]\n",
    "\n",
    "#Putting hyperparameters in form of dictionary \n",
    "\n",
    "dt_hyperparameters= dict(criterion=criterion,\n",
    "                         splitter=splitter, \n",
    "                         min_samples_leaf=min_samples_leaf,\n",
    "                         min_samples_split=min_samples_split,\n",
    "                         max_depth=max_depth,\n",
    "                         max_features=max_features)\n",
    "                         \n",
    "    \n",
    "dt_gridsearch= RandomizedSearchCV(estimator= dt_clf, \n",
    "                                  param_distributions=dt_hyperparameters, \n",
    "                                 cv=3, verbose=10)\n",
    "\n",
    "#Fit the train in GRidSearch \n",
    "\n",
    "dt_gridsearch.fit(X_train, y_train)"
   ]
  },
  {
   "cell_type": "code",
   "execution_count": 50,
   "id": "35a0a2fb",
   "metadata": {},
   "outputs": [
    {
     "data": {
      "text/plain": [
       "{'splitter': 'best',\n",
       " 'min_samples_split': 5,\n",
       " 'min_samples_leaf': 2,\n",
       " 'max_features': 'sqrt',\n",
       " 'max_depth': 10,\n",
       " 'criterion': 'entropy'}"
      ]
     },
     "execution_count": 50,
     "metadata": {},
     "output_type": "execute_result"
    }
   ],
   "source": [
    "dt_gridsearch.best_params_"
   ]
  },
  {
   "cell_type": "code",
   "execution_count": 53,
   "id": "f269da52",
   "metadata": {},
   "outputs": [
    {
     "name": "stdout",
     "output_type": "stream",
     "text": [
      "\n",
      " Confuision Matrix: \n",
      " [[6372 1994]\n",
      " [ 653 1929]]\n",
      "\n",
      " Classification Report: \n",
      "               precision    recall  f1-score   support\n",
      "\n",
      "           0       0.91      0.76      0.83      8366\n",
      "           1       0.49      0.75      0.59      2582\n",
      "\n",
      "    accuracy                           0.76     10948\n",
      "   macro avg       0.70      0.75      0.71     10948\n",
      "weighted avg       0.81      0.76      0.77     10948\n",
      "\n"
     ]
    }
   ],
   "source": [
    "# Evaluation of the model \n",
    "\n",
    "#Predict the test tesults\n",
    "\n",
    "dt_y_predict= dt_gridsearch.predict(X_test)\n",
    "\n",
    "\n",
    "#Model Evaluation ; Confusion Matrix, Classification report, accuracy_score \n",
    "\n",
    "\n",
    "print ('\\n Confuision Matrix: \\n', confusion_matrix(y_test,dt_y_predict ))\n",
    "print ('\\n Classification Report: \\n', classification_report(y_test,dt_y_predict ))\n",
    "dt_accuracy= accuracy_score(y_test, dt_y_predict)\n",
    "\n",
    "#Append the value of accuracy in the dataframe that we created earlier \n",
    "\n",
    "result.loc[1]= ['Decision Tree classifier', dt_accuracy]\n",
    "\n"
   ]
  },
  {
   "cell_type": "code",
   "execution_count": 54,
   "id": "39853b0d",
   "metadata": {},
   "outputs": [
    {
     "data": {
      "text/html": [
       "<div>\n",
       "<style scoped>\n",
       "    .dataframe tbody tr th:only-of-type {\n",
       "        vertical-align: middle;\n",
       "    }\n",
       "\n",
       "    .dataframe tbody tr th {\n",
       "        vertical-align: top;\n",
       "    }\n",
       "\n",
       "    .dataframe thead th {\n",
       "        text-align: right;\n",
       "    }\n",
       "</style>\n",
       "<table border=\"1\" class=\"dataframe\">\n",
       "  <thead>\n",
       "    <tr style=\"text-align: right;\">\n",
       "      <th></th>\n",
       "      <th>Model</th>\n",
       "      <th>Accuracy Score</th>\n",
       "    </tr>\n",
       "  </thead>\n",
       "  <tbody>\n",
       "    <tr>\n",
       "      <th>0</th>\n",
       "      <td>KNN classifier</td>\n",
       "      <td>0.716204</td>\n",
       "    </tr>\n",
       "    <tr>\n",
       "      <th>1</th>\n",
       "      <td>Decision Tree classifier</td>\n",
       "      <td>0.758221</td>\n",
       "    </tr>\n",
       "  </tbody>\n",
       "</table>\n",
       "</div>"
      ],
      "text/plain": [
       "                      Model  Accuracy Score\n",
       "0            KNN classifier        0.716204\n",
       "1  Decision Tree classifier        0.758221"
      ]
     },
     "execution_count": 54,
     "metadata": {},
     "output_type": "execute_result"
    }
   ],
   "source": [
    "result"
   ]
  },
  {
   "cell_type": "markdown",
   "id": "9aecf537",
   "metadata": {},
   "source": [
    "# 3) Random Forest Classifier"
   ]
  },
  {
   "cell_type": "code",
   "execution_count": 56,
   "id": "f63f49e6",
   "metadata": {},
   "outputs": [
    {
     "name": "stdout",
     "output_type": "stream",
     "text": [
      "Fitting 3 folds for each of 10 candidates, totalling 30 fits\n",
      "[CV 1/3; 1/10] START bootstrap=False, criterion=gini, max_depth=50, max_features=auto, min_samples_leaf=4, min_samples_split=2\n",
      "[CV 1/3; 1/10] END bootstrap=False, criterion=gini, max_depth=50, max_features=auto, min_samples_leaf=4, min_samples_split=2; total time=   2.1s\n",
      "[CV 2/3; 1/10] START bootstrap=False, criterion=gini, max_depth=50, max_features=auto, min_samples_leaf=4, min_samples_split=2\n",
      "[CV 2/3; 1/10] END bootstrap=False, criterion=gini, max_depth=50, max_features=auto, min_samples_leaf=4, min_samples_split=2; total time=   1.9s\n",
      "[CV 3/3; 1/10] START bootstrap=False, criterion=gini, max_depth=50, max_features=auto, min_samples_leaf=4, min_samples_split=2\n",
      "[CV 3/3; 1/10] END bootstrap=False, criterion=gini, max_depth=50, max_features=auto, min_samples_leaf=4, min_samples_split=2; total time=   1.9s\n",
      "[CV 1/3; 2/10] START bootstrap=False, criterion=gini, max_depth=60, max_features=auto, min_samples_leaf=1, min_samples_split=2\n",
      "[CV 1/3; 2/10] END bootstrap=False, criterion=gini, max_depth=60, max_features=auto, min_samples_leaf=1, min_samples_split=2; total time=   2.8s\n",
      "[CV 2/3; 2/10] START bootstrap=False, criterion=gini, max_depth=60, max_features=auto, min_samples_leaf=1, min_samples_split=2\n",
      "[CV 2/3; 2/10] END bootstrap=False, criterion=gini, max_depth=60, max_features=auto, min_samples_leaf=1, min_samples_split=2; total time=   2.7s\n",
      "[CV 3/3; 2/10] START bootstrap=False, criterion=gini, max_depth=60, max_features=auto, min_samples_leaf=1, min_samples_split=2\n",
      "[CV 3/3; 2/10] END bootstrap=False, criterion=gini, max_depth=60, max_features=auto, min_samples_leaf=1, min_samples_split=2; total time=   2.9s\n",
      "[CV 1/3; 3/10] START bootstrap=True, criterion=entropy, max_depth=40, max_features=auto, min_samples_leaf=4, min_samples_split=5\n",
      "[CV 1/3; 3/10] END bootstrap=True, criterion=entropy, max_depth=40, max_features=auto, min_samples_leaf=4, min_samples_split=5; total time=   1.4s\n",
      "[CV 2/3; 3/10] START bootstrap=True, criterion=entropy, max_depth=40, max_features=auto, min_samples_leaf=4, min_samples_split=5\n",
      "[CV 2/3; 3/10] END bootstrap=True, criterion=entropy, max_depth=40, max_features=auto, min_samples_leaf=4, min_samples_split=5; total time=   1.3s\n",
      "[CV 3/3; 3/10] START bootstrap=True, criterion=entropy, max_depth=40, max_features=auto, min_samples_leaf=4, min_samples_split=5\n",
      "[CV 3/3; 3/10] END bootstrap=True, criterion=entropy, max_depth=40, max_features=auto, min_samples_leaf=4, min_samples_split=5; total time=   1.4s\n",
      "[CV 1/3; 4/10] START bootstrap=False, criterion=entropy, max_depth=90, max_features=auto, min_samples_leaf=4, min_samples_split=10\n",
      "[CV 1/3; 4/10] END bootstrap=False, criterion=entropy, max_depth=90, max_features=auto, min_samples_leaf=4, min_samples_split=10; total time=   2.1s\n",
      "[CV 2/3; 4/10] START bootstrap=False, criterion=entropy, max_depth=90, max_features=auto, min_samples_leaf=4, min_samples_split=10\n",
      "[CV 2/3; 4/10] END bootstrap=False, criterion=entropy, max_depth=90, max_features=auto, min_samples_leaf=4, min_samples_split=10; total time=   2.2s\n",
      "[CV 3/3; 4/10] START bootstrap=False, criterion=entropy, max_depth=90, max_features=auto, min_samples_leaf=4, min_samples_split=10\n",
      "[CV 3/3; 4/10] END bootstrap=False, criterion=entropy, max_depth=90, max_features=auto, min_samples_leaf=4, min_samples_split=10; total time=   1.9s\n",
      "[CV 1/3; 5/10] START bootstrap=False, criterion=gini, max_depth=70, max_features=auto, min_samples_leaf=1, min_samples_split=10\n",
      "[CV 1/3; 5/10] END bootstrap=False, criterion=gini, max_depth=70, max_features=auto, min_samples_leaf=1, min_samples_split=10; total time=   2.4s\n",
      "[CV 2/3; 5/10] START bootstrap=False, criterion=gini, max_depth=70, max_features=auto, min_samples_leaf=1, min_samples_split=10\n",
      "[CV 2/3; 5/10] END bootstrap=False, criterion=gini, max_depth=70, max_features=auto, min_samples_leaf=1, min_samples_split=10; total time=   2.3s\n",
      "[CV 3/3; 5/10] START bootstrap=False, criterion=gini, max_depth=70, max_features=auto, min_samples_leaf=1, min_samples_split=10\n",
      "[CV 3/3; 5/10] END bootstrap=False, criterion=gini, max_depth=70, max_features=auto, min_samples_leaf=1, min_samples_split=10; total time=   2.3s\n",
      "[CV 1/3; 6/10] START bootstrap=False, criterion=gini, max_depth=80, max_features=sqrt, min_samples_leaf=1, min_samples_split=5\n",
      "[CV 1/3; 6/10] END bootstrap=False, criterion=gini, max_depth=80, max_features=sqrt, min_samples_leaf=1, min_samples_split=5; total time=   2.4s\n",
      "[CV 2/3; 6/10] START bootstrap=False, criterion=gini, max_depth=80, max_features=sqrt, min_samples_leaf=1, min_samples_split=5\n",
      "[CV 2/3; 6/10] END bootstrap=False, criterion=gini, max_depth=80, max_features=sqrt, min_samples_leaf=1, min_samples_split=5; total time=   2.3s\n",
      "[CV 3/3; 6/10] START bootstrap=False, criterion=gini, max_depth=80, max_features=sqrt, min_samples_leaf=1, min_samples_split=5\n",
      "[CV 3/3; 6/10] END bootstrap=False, criterion=gini, max_depth=80, max_features=sqrt, min_samples_leaf=1, min_samples_split=5; total time=   2.7s\n",
      "[CV 1/3; 7/10] START bootstrap=True, criterion=entropy, max_depth=40, max_features=sqrt, min_samples_leaf=4, min_samples_split=10\n",
      "[CV 1/3; 7/10] END bootstrap=True, criterion=entropy, max_depth=40, max_features=sqrt, min_samples_leaf=4, min_samples_split=10; total time=   1.3s\n",
      "[CV 2/3; 7/10] START bootstrap=True, criterion=entropy, max_depth=40, max_features=sqrt, min_samples_leaf=4, min_samples_split=10\n",
      "[CV 2/3; 7/10] END bootstrap=True, criterion=entropy, max_depth=40, max_features=sqrt, min_samples_leaf=4, min_samples_split=10; total time=   1.6s\n",
      "[CV 3/3; 7/10] START bootstrap=True, criterion=entropy, max_depth=40, max_features=sqrt, min_samples_leaf=4, min_samples_split=10\n",
      "[CV 3/3; 7/10] END bootstrap=True, criterion=entropy, max_depth=40, max_features=sqrt, min_samples_leaf=4, min_samples_split=10; total time=   1.4s\n",
      "[CV 1/3; 8/10] START bootstrap=True, criterion=entropy, max_depth=90, max_features=auto, min_samples_leaf=1, min_samples_split=2\n",
      "[CV 1/3; 8/10] END bootstrap=True, criterion=entropy, max_depth=90, max_features=auto, min_samples_leaf=1, min_samples_split=2; total time=   2.0s\n",
      "[CV 2/3; 8/10] START bootstrap=True, criterion=entropy, max_depth=90, max_features=auto, min_samples_leaf=1, min_samples_split=2\n",
      "[CV 2/3; 8/10] END bootstrap=True, criterion=entropy, max_depth=90, max_features=auto, min_samples_leaf=1, min_samples_split=2; total time=   1.8s\n",
      "[CV 3/3; 8/10] START bootstrap=True, criterion=entropy, max_depth=90, max_features=auto, min_samples_leaf=1, min_samples_split=2\n",
      "[CV 3/3; 8/10] END bootstrap=True, criterion=entropy, max_depth=90, max_features=auto, min_samples_leaf=1, min_samples_split=2; total time=   1.9s\n",
      "[CV 1/3; 9/10] START bootstrap=True, criterion=gini, max_depth=50, max_features=auto, min_samples_leaf=2, min_samples_split=10\n",
      "[CV 1/3; 9/10] END bootstrap=True, criterion=gini, max_depth=50, max_features=auto, min_samples_leaf=2, min_samples_split=10; total time=   1.4s\n",
      "[CV 2/3; 9/10] START bootstrap=True, criterion=gini, max_depth=50, max_features=auto, min_samples_leaf=2, min_samples_split=10\n",
      "[CV 2/3; 9/10] END bootstrap=True, criterion=gini, max_depth=50, max_features=auto, min_samples_leaf=2, min_samples_split=10; total time=   1.4s\n",
      "[CV 3/3; 9/10] START bootstrap=True, criterion=gini, max_depth=50, max_features=auto, min_samples_leaf=2, min_samples_split=10\n",
      "[CV 3/3; 9/10] END bootstrap=True, criterion=gini, max_depth=50, max_features=auto, min_samples_leaf=2, min_samples_split=10; total time=   1.5s\n",
      "[CV 1/3; 10/10] START bootstrap=False, criterion=entropy, max_depth=70, max_features=auto, min_samples_leaf=1, min_samples_split=5\n",
      "[CV 1/3; 10/10] END bootstrap=False, criterion=entropy, max_depth=70, max_features=auto, min_samples_leaf=1, min_samples_split=5; total time=   2.4s\n",
      "[CV 2/3; 10/10] START bootstrap=False, criterion=entropy, max_depth=70, max_features=auto, min_samples_leaf=1, min_samples_split=5\n",
      "[CV 2/3; 10/10] END bootstrap=False, criterion=entropy, max_depth=70, max_features=auto, min_samples_leaf=1, min_samples_split=5; total time=   2.4s\n",
      "[CV 3/3; 10/10] START bootstrap=False, criterion=entropy, max_depth=70, max_features=auto, min_samples_leaf=1, min_samples_split=5\n",
      "[CV 3/3; 10/10] END bootstrap=False, criterion=entropy, max_depth=70, max_features=auto, min_samples_leaf=1, min_samples_split=5; total time=   2.6s\n"
     ]
    },
    {
     "data": {
      "text/plain": [
       "{'min_samples_split': 2,\n",
       " 'min_samples_leaf': 4,\n",
       " 'max_features': 'auto',\n",
       " 'max_depth': 50,\n",
       " 'criterion': 'gini',\n",
       " 'bootstrap': False}"
      ]
     },
     "execution_count": 56,
     "metadata": {},
     "output_type": "execute_result"
    }
   ],
   "source": [
    "from sklearn.ensemble import RandomForestClassifier\n",
    "rf_clf= RandomForestClassifier()\n",
    "\n",
    "#Hyperparameters \n",
    "\n",
    "criterion=['gini', 'entropy']\n",
    "max_depth=list(range(10,100,10))\n",
    "min_samples_leaf=[1,2,4]\n",
    "min_samples_split=[2,5,10]\n",
    "\n",
    "max_features =['auto', 'sqrt']\n",
    "bootstrap=[True, False]\n",
    "\n",
    "\n",
    "\n",
    "#Putting the hyperparameters in a dictionary \n",
    "\n",
    "rf_hyperparameters= dict(criterion=criterion,\n",
    "                        max_depth=max_depth,\n",
    "                        min_samples_leaf=min_samples_leaf,\n",
    "                        min_samples_split=min_samples_split,\n",
    "                        max_features=max_features,\n",
    "                        bootstrap= bootstrap)\n",
    "\n",
    "rf_gridsearch= RandomizedSearchCV(estimator= rf_clf,\n",
    "                                 param_distributions= rf_hyperparameters, \n",
    "                                 cv=3, verbose=10)\n",
    "\n",
    "\n",
    "#Fit the gridsearch of train data \n",
    "\n",
    "rf_gridsearch.fit(X_train, y_train)\n",
    "\n",
    "rf_gridsearch.best_params_\n",
    "       "
   ]
  },
  {
   "cell_type": "code",
   "execution_count": 57,
   "id": "a4cb69ed",
   "metadata": {},
   "outputs": [
    {
     "name": "stdout",
     "output_type": "stream",
     "text": [
      "\n",
      " Confuision Matrix: \n",
      " [[6281 2085]\n",
      " [ 590 1992]]\n",
      "\n",
      " Classification Report: \n",
      "               precision    recall  f1-score   support\n",
      "\n",
      "           0       0.91      0.75      0.82      8366\n",
      "           1       0.49      0.77      0.60      2582\n",
      "\n",
      "    accuracy                           0.76     10948\n",
      "   macro avg       0.70      0.76      0.71     10948\n",
      "weighted avg       0.81      0.76      0.77     10948\n",
      "\n"
     ]
    }
   ],
   "source": [
    "# Evaluation of the model \n",
    "\n",
    "#Predict the test tesults\n",
    "\n",
    "rf_y_predict= rf_gridsearch.predict(X_test)\n",
    "\n",
    "\n",
    "#Model Evaluation ; Confusion Matrix, Classification report, accuracy_score \n",
    "\n",
    "\n",
    "print ('\\n Confuision Matrix: \\n', confusion_matrix(y_test,rf_y_predict ))\n",
    "print ('\\n Classification Report: \\n', classification_report(y_test,rf_y_predict ))\n",
    "rf_accuracy= accuracy_score(y_test, rf_y_predict)\n",
    "\n",
    "#Append the value of accuracy in the dataframe that we created earlier \n",
    "\n",
    "result.loc[2]= ['RandomForest classifier', rf_accuracy]\n"
   ]
  },
  {
   "cell_type": "code",
   "execution_count": 59,
   "id": "7938b73a",
   "metadata": {},
   "outputs": [
    {
     "data": {
      "text/html": [
       "<div>\n",
       "<style scoped>\n",
       "    .dataframe tbody tr th:only-of-type {\n",
       "        vertical-align: middle;\n",
       "    }\n",
       "\n",
       "    .dataframe tbody tr th {\n",
       "        vertical-align: top;\n",
       "    }\n",
       "\n",
       "    .dataframe thead th {\n",
       "        text-align: right;\n",
       "    }\n",
       "</style>\n",
       "<table border=\"1\" class=\"dataframe\">\n",
       "  <thead>\n",
       "    <tr style=\"text-align: right;\">\n",
       "      <th></th>\n",
       "      <th>Model</th>\n",
       "      <th>Accuracy Score</th>\n",
       "    </tr>\n",
       "  </thead>\n",
       "  <tbody>\n",
       "    <tr>\n",
       "      <th>0</th>\n",
       "      <td>KNN classifier</td>\n",
       "      <td>0.716204</td>\n",
       "    </tr>\n",
       "    <tr>\n",
       "      <th>1</th>\n",
       "      <td>Decision Tree classifier</td>\n",
       "      <td>0.758221</td>\n",
       "    </tr>\n",
       "    <tr>\n",
       "      <th>2</th>\n",
       "      <td>RandomForest classifier</td>\n",
       "      <td>0.755663</td>\n",
       "    </tr>\n",
       "  </tbody>\n",
       "</table>\n",
       "</div>"
      ],
      "text/plain": [
       "                      Model  Accuracy Score\n",
       "0            KNN classifier        0.716204\n",
       "1  Decision Tree classifier        0.758221\n",
       "2   RandomForest classifier        0.755663"
      ]
     },
     "execution_count": 59,
     "metadata": {},
     "output_type": "execute_result"
    }
   ],
   "source": [
    "result"
   ]
  },
  {
   "cell_type": "markdown",
   "id": "e01246d7",
   "metadata": {},
   "source": [
    "# 4) Logistic Regression "
   ]
  },
  {
   "cell_type": "code",
   "execution_count": 60,
   "id": "ba19a2c7",
   "metadata": {},
   "outputs": [
    {
     "name": "stdout",
     "output_type": "stream",
     "text": [
      "Fitting 3 folds for each of 10 candidates, totalling 30 fits\n",
      "[CV 1/3; 1/10] START C=0.2682695795279725, max_iter=2000, penalty=elasticnet, solver=liblinear\n",
      "[CV 1/3; 1/10] END C=0.2682695795279725, max_iter=2000, penalty=elasticnet, solver=liblinear; total time=   0.0s\n",
      "[CV 2/3; 1/10] START C=0.2682695795279725, max_iter=2000, penalty=elasticnet, solver=liblinear\n",
      "[CV 2/3; 1/10] END C=0.2682695795279725, max_iter=2000, penalty=elasticnet, solver=liblinear; total time=   0.0s\n",
      "[CV 3/3; 1/10] START C=0.2682695795279725, max_iter=2000, penalty=elasticnet, solver=liblinear\n",
      "[CV 3/3; 1/10] END C=0.2682695795279725, max_iter=2000, penalty=elasticnet, solver=liblinear; total time=   0.0s\n",
      "[CV 1/3; 2/10] START C=2.559547922699533, max_iter=1000, penalty=elasticnet, solver=newton-cg\n",
      "[CV 1/3; 2/10] END C=2.559547922699533, max_iter=1000, penalty=elasticnet, solver=newton-cg; total time=   0.0s\n",
      "[CV 2/3; 2/10] START C=2.559547922699533, max_iter=1000, penalty=elasticnet, solver=newton-cg\n",
      "[CV 2/3; 2/10] END C=2.559547922699533, max_iter=1000, penalty=elasticnet, solver=newton-cg; total time=   0.0s\n",
      "[CV 3/3; 2/10] START C=2.559547922699533, max_iter=1000, penalty=elasticnet, solver=newton-cg\n",
      "[CV 3/3; 2/10] END C=2.559547922699533, max_iter=1000, penalty=elasticnet, solver=newton-cg; total time=   0.0s\n",
      "[CV 1/3; 3/10] START C=0.18420699693267145, max_iter=2000, penalty=l2, solver=liblinear\n"
     ]
    },
    {
     "name": "stderr",
     "output_type": "stream",
     "text": [
      "C:\\Users\\artem\\anaconda3\\lib\\site-packages\\sklearn\\model_selection\\_validation.py:610: FitFailedWarning: Estimator fit failed. The score on this train-test partition for these parameters will be set to nan. Details: \n",
      "Traceback (most recent call last):\n",
      "  File \"C:\\Users\\artem\\anaconda3\\lib\\site-packages\\sklearn\\model_selection\\_validation.py\", line 593, in _fit_and_score\n",
      "    estimator.fit(X_train, y_train, **fit_params)\n",
      "  File \"C:\\Users\\artem\\anaconda3\\lib\\site-packages\\sklearn\\linear_model\\_logistic.py\", line 1306, in fit\n",
      "    solver = _check_solver(self.solver, self.penalty, self.dual)\n",
      "  File \"C:\\Users\\artem\\anaconda3\\lib\\site-packages\\sklearn\\linear_model\\_logistic.py\", line 450, in _check_solver\n",
      "    raise ValueError(\"Only 'saga' solver supports elasticnet penalty,\"\n",
      "ValueError: Only 'saga' solver supports elasticnet penalty, got solver=liblinear.\n",
      "\n",
      "  warnings.warn(\"Estimator fit failed. The score on this train-test\"\n",
      "C:\\Users\\artem\\anaconda3\\lib\\site-packages\\sklearn\\model_selection\\_validation.py:610: FitFailedWarning: Estimator fit failed. The score on this train-test partition for these parameters will be set to nan. Details: \n",
      "Traceback (most recent call last):\n",
      "  File \"C:\\Users\\artem\\anaconda3\\lib\\site-packages\\sklearn\\model_selection\\_validation.py\", line 593, in _fit_and_score\n",
      "    estimator.fit(X_train, y_train, **fit_params)\n",
      "  File \"C:\\Users\\artem\\anaconda3\\lib\\site-packages\\sklearn\\linear_model\\_logistic.py\", line 1306, in fit\n",
      "    solver = _check_solver(self.solver, self.penalty, self.dual)\n",
      "  File \"C:\\Users\\artem\\anaconda3\\lib\\site-packages\\sklearn\\linear_model\\_logistic.py\", line 450, in _check_solver\n",
      "    raise ValueError(\"Only 'saga' solver supports elasticnet penalty,\"\n",
      "ValueError: Only 'saga' solver supports elasticnet penalty, got solver=liblinear.\n",
      "\n",
      "  warnings.warn(\"Estimator fit failed. The score on this train-test\"\n",
      "C:\\Users\\artem\\anaconda3\\lib\\site-packages\\sklearn\\model_selection\\_validation.py:610: FitFailedWarning: Estimator fit failed. The score on this train-test partition for these parameters will be set to nan. Details: \n",
      "Traceback (most recent call last):\n",
      "  File \"C:\\Users\\artem\\anaconda3\\lib\\site-packages\\sklearn\\model_selection\\_validation.py\", line 593, in _fit_and_score\n",
      "    estimator.fit(X_train, y_train, **fit_params)\n",
      "  File \"C:\\Users\\artem\\anaconda3\\lib\\site-packages\\sklearn\\linear_model\\_logistic.py\", line 1306, in fit\n",
      "    solver = _check_solver(self.solver, self.penalty, self.dual)\n",
      "  File \"C:\\Users\\artem\\anaconda3\\lib\\site-packages\\sklearn\\linear_model\\_logistic.py\", line 450, in _check_solver\n",
      "    raise ValueError(\"Only 'saga' solver supports elasticnet penalty,\"\n",
      "ValueError: Only 'saga' solver supports elasticnet penalty, got solver=liblinear.\n",
      "\n",
      "  warnings.warn(\"Estimator fit failed. The score on this train-test\"\n",
      "C:\\Users\\artem\\anaconda3\\lib\\site-packages\\sklearn\\model_selection\\_validation.py:610: FitFailedWarning: Estimator fit failed. The score on this train-test partition for these parameters will be set to nan. Details: \n",
      "Traceback (most recent call last):\n",
      "  File \"C:\\Users\\artem\\anaconda3\\lib\\site-packages\\sklearn\\model_selection\\_validation.py\", line 593, in _fit_and_score\n",
      "    estimator.fit(X_train, y_train, **fit_params)\n",
      "  File \"C:\\Users\\artem\\anaconda3\\lib\\site-packages\\sklearn\\linear_model\\_logistic.py\", line 1306, in fit\n",
      "    solver = _check_solver(self.solver, self.penalty, self.dual)\n",
      "  File \"C:\\Users\\artem\\anaconda3\\lib\\site-packages\\sklearn\\linear_model\\_logistic.py\", line 443, in _check_solver\n",
      "    raise ValueError(\"Solver %s supports only 'l2' or 'none' penalties, \"\n",
      "ValueError: Solver newton-cg supports only 'l2' or 'none' penalties, got elasticnet penalty.\n",
      "\n",
      "  warnings.warn(\"Estimator fit failed. The score on this train-test\"\n",
      "C:\\Users\\artem\\anaconda3\\lib\\site-packages\\sklearn\\model_selection\\_validation.py:610: FitFailedWarning: Estimator fit failed. The score on this train-test partition for these parameters will be set to nan. Details: \n",
      "Traceback (most recent call last):\n",
      "  File \"C:\\Users\\artem\\anaconda3\\lib\\site-packages\\sklearn\\model_selection\\_validation.py\", line 593, in _fit_and_score\n",
      "    estimator.fit(X_train, y_train, **fit_params)\n",
      "  File \"C:\\Users\\artem\\anaconda3\\lib\\site-packages\\sklearn\\linear_model\\_logistic.py\", line 1306, in fit\n",
      "    solver = _check_solver(self.solver, self.penalty, self.dual)\n",
      "  File \"C:\\Users\\artem\\anaconda3\\lib\\site-packages\\sklearn\\linear_model\\_logistic.py\", line 443, in _check_solver\n",
      "    raise ValueError(\"Solver %s supports only 'l2' or 'none' penalties, \"\n",
      "ValueError: Solver newton-cg supports only 'l2' or 'none' penalties, got elasticnet penalty.\n",
      "\n",
      "  warnings.warn(\"Estimator fit failed. The score on this train-test\"\n",
      "C:\\Users\\artem\\anaconda3\\lib\\site-packages\\sklearn\\model_selection\\_validation.py:610: FitFailedWarning: Estimator fit failed. The score on this train-test partition for these parameters will be set to nan. Details: \n",
      "Traceback (most recent call last):\n",
      "  File \"C:\\Users\\artem\\anaconda3\\lib\\site-packages\\sklearn\\model_selection\\_validation.py\", line 593, in _fit_and_score\n",
      "    estimator.fit(X_train, y_train, **fit_params)\n",
      "  File \"C:\\Users\\artem\\anaconda3\\lib\\site-packages\\sklearn\\linear_model\\_logistic.py\", line 1306, in fit\n",
      "    solver = _check_solver(self.solver, self.penalty, self.dual)\n",
      "  File \"C:\\Users\\artem\\anaconda3\\lib\\site-packages\\sklearn\\linear_model\\_logistic.py\", line 443, in _check_solver\n",
      "    raise ValueError(\"Solver %s supports only 'l2' or 'none' penalties, \"\n",
      "ValueError: Solver newton-cg supports only 'l2' or 'none' penalties, got elasticnet penalty.\n",
      "\n",
      "  warnings.warn(\"Estimator fit failed. The score on this train-test\"\n"
     ]
    },
    {
     "name": "stdout",
     "output_type": "stream",
     "text": [
      "[CV 1/3; 3/10] END C=0.18420699693267145, max_iter=2000, penalty=l2, solver=liblinear; total time=   0.4s\n",
      "[CV 2/3; 3/10] START C=0.18420699693267145, max_iter=2000, penalty=l2, solver=liblinear\n",
      "[CV 2/3; 3/10] END C=0.18420699693267145, max_iter=2000, penalty=l2, solver=liblinear; total time=   0.4s\n",
      "[CV 3/3; 3/10] START C=0.18420699693267145, max_iter=2000, penalty=l2, solver=liblinear\n",
      "[CV 3/3; 3/10] END C=0.18420699693267145, max_iter=2000, penalty=l2, solver=liblinear; total time=   0.4s\n",
      "[CV 1/3; 4/10] START C=232.99518105153672, max_iter=2000, penalty=None, solver=saga\n",
      "[CV 1/3; 4/10] END C=232.99518105153672, max_iter=2000, penalty=None, solver=saga; total time=   0.0s\n",
      "[CV 2/3; 4/10] START C=232.99518105153672, max_iter=2000, penalty=None, solver=saga\n",
      "[CV 2/3; 4/10] END C=232.99518105153672, max_iter=2000, penalty=None, solver=saga; total time=   0.0s\n",
      "[CV 3/3; 4/10] START C=232.99518105153672, max_iter=2000, penalty=None, solver=saga\n",
      "[CV 3/3; 4/10] END C=232.99518105153672, max_iter=2000, penalty=None, solver=saga; total time=   0.0s\n",
      "[CV 1/3; 5/10] START C=0.05963623316594643, max_iter=5000, penalty=l2, solver=lbfgs\n",
      "[CV 1/3; 5/10] END C=0.05963623316594643, max_iter=5000, penalty=l2, solver=lbfgs; total time=   0.1s\n",
      "[CV 2/3; 5/10] START C=0.05963623316594643, max_iter=5000, penalty=l2, solver=lbfgs\n"
     ]
    },
    {
     "name": "stderr",
     "output_type": "stream",
     "text": [
      "C:\\Users\\artem\\anaconda3\\lib\\site-packages\\sklearn\\model_selection\\_validation.py:610: FitFailedWarning: Estimator fit failed. The score on this train-test partition for these parameters will be set to nan. Details: \n",
      "Traceback (most recent call last):\n",
      "  File \"C:\\Users\\artem\\anaconda3\\lib\\site-packages\\sklearn\\model_selection\\_validation.py\", line 593, in _fit_and_score\n",
      "    estimator.fit(X_train, y_train, **fit_params)\n",
      "  File \"C:\\Users\\artem\\anaconda3\\lib\\site-packages\\sklearn\\linear_model\\_logistic.py\", line 1306, in fit\n",
      "    solver = _check_solver(self.solver, self.penalty, self.dual)\n",
      "  File \"C:\\Users\\artem\\anaconda3\\lib\\site-packages\\sklearn\\linear_model\\_logistic.py\", line 439, in _check_solver\n",
      "    raise ValueError(\"Logistic Regression supports only penalties in %s,\"\n",
      "ValueError: Logistic Regression supports only penalties in ['l1', 'l2', 'elasticnet', 'none'], got None.\n",
      "\n",
      "  warnings.warn(\"Estimator fit failed. The score on this train-test\"\n",
      "C:\\Users\\artem\\anaconda3\\lib\\site-packages\\sklearn\\model_selection\\_validation.py:610: FitFailedWarning: Estimator fit failed. The score on this train-test partition for these parameters will be set to nan. Details: \n",
      "Traceback (most recent call last):\n",
      "  File \"C:\\Users\\artem\\anaconda3\\lib\\site-packages\\sklearn\\model_selection\\_validation.py\", line 593, in _fit_and_score\n",
      "    estimator.fit(X_train, y_train, **fit_params)\n",
      "  File \"C:\\Users\\artem\\anaconda3\\lib\\site-packages\\sklearn\\linear_model\\_logistic.py\", line 1306, in fit\n",
      "    solver = _check_solver(self.solver, self.penalty, self.dual)\n",
      "  File \"C:\\Users\\artem\\anaconda3\\lib\\site-packages\\sklearn\\linear_model\\_logistic.py\", line 439, in _check_solver\n",
      "    raise ValueError(\"Logistic Regression supports only penalties in %s,\"\n",
      "ValueError: Logistic Regression supports only penalties in ['l1', 'l2', 'elasticnet', 'none'], got None.\n",
      "\n",
      "  warnings.warn(\"Estimator fit failed. The score on this train-test\"\n",
      "C:\\Users\\artem\\anaconda3\\lib\\site-packages\\sklearn\\model_selection\\_validation.py:610: FitFailedWarning: Estimator fit failed. The score on this train-test partition for these parameters will be set to nan. Details: \n",
      "Traceback (most recent call last):\n",
      "  File \"C:\\Users\\artem\\anaconda3\\lib\\site-packages\\sklearn\\model_selection\\_validation.py\", line 593, in _fit_and_score\n",
      "    estimator.fit(X_train, y_train, **fit_params)\n",
      "  File \"C:\\Users\\artem\\anaconda3\\lib\\site-packages\\sklearn\\linear_model\\_logistic.py\", line 1306, in fit\n",
      "    solver = _check_solver(self.solver, self.penalty, self.dual)\n",
      "  File \"C:\\Users\\artem\\anaconda3\\lib\\site-packages\\sklearn\\linear_model\\_logistic.py\", line 439, in _check_solver\n",
      "    raise ValueError(\"Logistic Regression supports only penalties in %s,\"\n",
      "ValueError: Logistic Regression supports only penalties in ['l1', 'l2', 'elasticnet', 'none'], got None.\n",
      "\n",
      "  warnings.warn(\"Estimator fit failed. The score on this train-test\"\n"
     ]
    },
    {
     "name": "stdout",
     "output_type": "stream",
     "text": [
      "[CV 2/3; 5/10] END C=0.05963623316594643, max_iter=5000, penalty=l2, solver=lbfgs; total time=   0.0s\n",
      "[CV 3/3; 5/10] START C=0.05963623316594643, max_iter=5000, penalty=l2, solver=lbfgs\n",
      "[CV 3/3; 5/10] END C=0.05963623316594643, max_iter=5000, penalty=l2, solver=lbfgs; total time=   0.0s\n",
      "[CV 1/3; 6/10] START C=719.6856730011514, max_iter=5000, penalty=l1, solver=newton-cg\n",
      "[CV 1/3; 6/10] END C=719.6856730011514, max_iter=5000, penalty=l1, solver=newton-cg; total time=   0.0s\n",
      "[CV 2/3; 6/10] START C=719.6856730011514, max_iter=5000, penalty=l1, solver=newton-cg\n",
      "[CV 2/3; 6/10] END C=719.6856730011514, max_iter=5000, penalty=l1, solver=newton-cg; total time=   0.0s\n",
      "[CV 3/3; 6/10] START C=719.6856730011514, max_iter=5000, penalty=l1, solver=newton-cg\n",
      "[CV 3/3; 6/10] END C=719.6856730011514, max_iter=5000, penalty=l1, solver=newton-cg; total time=   0.0s\n",
      "[CV 1/3; 7/10] START C=2222.996482526191, max_iter=100, penalty=l2, solver=liblinear\n"
     ]
    },
    {
     "name": "stderr",
     "output_type": "stream",
     "text": [
      "C:\\Users\\artem\\anaconda3\\lib\\site-packages\\sklearn\\model_selection\\_validation.py:610: FitFailedWarning: Estimator fit failed. The score on this train-test partition for these parameters will be set to nan. Details: \n",
      "Traceback (most recent call last):\n",
      "  File \"C:\\Users\\artem\\anaconda3\\lib\\site-packages\\sklearn\\model_selection\\_validation.py\", line 593, in _fit_and_score\n",
      "    estimator.fit(X_train, y_train, **fit_params)\n",
      "  File \"C:\\Users\\artem\\anaconda3\\lib\\site-packages\\sklearn\\linear_model\\_logistic.py\", line 1306, in fit\n",
      "    solver = _check_solver(self.solver, self.penalty, self.dual)\n",
      "  File \"C:\\Users\\artem\\anaconda3\\lib\\site-packages\\sklearn\\linear_model\\_logistic.py\", line 443, in _check_solver\n",
      "    raise ValueError(\"Solver %s supports only 'l2' or 'none' penalties, \"\n",
      "ValueError: Solver newton-cg supports only 'l2' or 'none' penalties, got l1 penalty.\n",
      "\n",
      "  warnings.warn(\"Estimator fit failed. The score on this train-test\"\n",
      "C:\\Users\\artem\\anaconda3\\lib\\site-packages\\sklearn\\model_selection\\_validation.py:610: FitFailedWarning: Estimator fit failed. The score on this train-test partition for these parameters will be set to nan. Details: \n",
      "Traceback (most recent call last):\n",
      "  File \"C:\\Users\\artem\\anaconda3\\lib\\site-packages\\sklearn\\model_selection\\_validation.py\", line 593, in _fit_and_score\n",
      "    estimator.fit(X_train, y_train, **fit_params)\n",
      "  File \"C:\\Users\\artem\\anaconda3\\lib\\site-packages\\sklearn\\linear_model\\_logistic.py\", line 1306, in fit\n",
      "    solver = _check_solver(self.solver, self.penalty, self.dual)\n",
      "  File \"C:\\Users\\artem\\anaconda3\\lib\\site-packages\\sklearn\\linear_model\\_logistic.py\", line 443, in _check_solver\n",
      "    raise ValueError(\"Solver %s supports only 'l2' or 'none' penalties, \"\n",
      "ValueError: Solver newton-cg supports only 'l2' or 'none' penalties, got l1 penalty.\n",
      "\n",
      "  warnings.warn(\"Estimator fit failed. The score on this train-test\"\n",
      "C:\\Users\\artem\\anaconda3\\lib\\site-packages\\sklearn\\model_selection\\_validation.py:610: FitFailedWarning: Estimator fit failed. The score on this train-test partition for these parameters will be set to nan. Details: \n",
      "Traceback (most recent call last):\n",
      "  File \"C:\\Users\\artem\\anaconda3\\lib\\site-packages\\sklearn\\model_selection\\_validation.py\", line 593, in _fit_and_score\n",
      "    estimator.fit(X_train, y_train, **fit_params)\n",
      "  File \"C:\\Users\\artem\\anaconda3\\lib\\site-packages\\sklearn\\linear_model\\_logistic.py\", line 1306, in fit\n",
      "    solver = _check_solver(self.solver, self.penalty, self.dual)\n",
      "  File \"C:\\Users\\artem\\anaconda3\\lib\\site-packages\\sklearn\\linear_model\\_logistic.py\", line 443, in _check_solver\n",
      "    raise ValueError(\"Solver %s supports only 'l2' or 'none' penalties, \"\n",
      "ValueError: Solver newton-cg supports only 'l2' or 'none' penalties, got l1 penalty.\n",
      "\n",
      "  warnings.warn(\"Estimator fit failed. The score on this train-test\"\n"
     ]
    },
    {
     "name": "stdout",
     "output_type": "stream",
     "text": [
      "[CV 1/3; 7/10] END C=2222.996482526191, max_iter=100, penalty=l2, solver=liblinear; total time=   0.5s\n",
      "[CV 2/3; 7/10] START C=2222.996482526191, max_iter=100, penalty=l2, solver=liblinear\n",
      "[CV 2/3; 7/10] END C=2222.996482526191, max_iter=100, penalty=l2, solver=liblinear; total time=   0.4s\n",
      "[CV 3/3; 7/10] START C=2222.996482526191, max_iter=100, penalty=l2, solver=liblinear\n",
      "[CV 3/3; 7/10] END C=2222.996482526191, max_iter=100, penalty=l2, solver=liblinear; total time=   0.4s\n",
      "[CV 1/3; 8/10] START C=339.3221771895323, max_iter=5000, penalty=elasticnet, solver=saga\n",
      "[CV 1/3; 8/10] END C=339.3221771895323, max_iter=5000, penalty=elasticnet, solver=saga; total time=   0.0s\n",
      "[CV 2/3; 8/10] START C=339.3221771895323, max_iter=5000, penalty=elasticnet, solver=saga\n",
      "[CV 2/3; 8/10] END C=339.3221771895323, max_iter=5000, penalty=elasticnet, solver=saga; total time=   0.0s\n",
      "[CV 3/3; 8/10] START C=339.3221771895323, max_iter=5000, penalty=elasticnet, solver=saga\n",
      "[CV 3/3; 8/10] END C=339.3221771895323, max_iter=5000, penalty=elasticnet, solver=saga; total time=   0.0s\n",
      "[CV 1/3; 9/10] START C=0.8286427728546842, max_iter=5000, penalty=l2, solver=liblinear\n"
     ]
    },
    {
     "name": "stderr",
     "output_type": "stream",
     "text": [
      "C:\\Users\\artem\\anaconda3\\lib\\site-packages\\sklearn\\model_selection\\_validation.py:610: FitFailedWarning: Estimator fit failed. The score on this train-test partition for these parameters will be set to nan. Details: \n",
      "Traceback (most recent call last):\n",
      "  File \"C:\\Users\\artem\\anaconda3\\lib\\site-packages\\sklearn\\model_selection\\_validation.py\", line 593, in _fit_and_score\n",
      "    estimator.fit(X_train, y_train, **fit_params)\n",
      "  File \"C:\\Users\\artem\\anaconda3\\lib\\site-packages\\sklearn\\linear_model\\_logistic.py\", line 1314, in fit\n",
      "    raise ValueError(\"l1_ratio must be between 0 and 1;\"\n",
      "ValueError: l1_ratio must be between 0 and 1; got (l1_ratio=None)\n",
      "\n",
      "  warnings.warn(\"Estimator fit failed. The score on this train-test\"\n",
      "C:\\Users\\artem\\anaconda3\\lib\\site-packages\\sklearn\\model_selection\\_validation.py:610: FitFailedWarning: Estimator fit failed. The score on this train-test partition for these parameters will be set to nan. Details: \n",
      "Traceback (most recent call last):\n",
      "  File \"C:\\Users\\artem\\anaconda3\\lib\\site-packages\\sklearn\\model_selection\\_validation.py\", line 593, in _fit_and_score\n",
      "    estimator.fit(X_train, y_train, **fit_params)\n",
      "  File \"C:\\Users\\artem\\anaconda3\\lib\\site-packages\\sklearn\\linear_model\\_logistic.py\", line 1314, in fit\n",
      "    raise ValueError(\"l1_ratio must be between 0 and 1;\"\n",
      "ValueError: l1_ratio must be between 0 and 1; got (l1_ratio=None)\n",
      "\n",
      "  warnings.warn(\"Estimator fit failed. The score on this train-test\"\n",
      "C:\\Users\\artem\\anaconda3\\lib\\site-packages\\sklearn\\model_selection\\_validation.py:610: FitFailedWarning: Estimator fit failed. The score on this train-test partition for these parameters will be set to nan. Details: \n",
      "Traceback (most recent call last):\n",
      "  File \"C:\\Users\\artem\\anaconda3\\lib\\site-packages\\sklearn\\model_selection\\_validation.py\", line 593, in _fit_and_score\n",
      "    estimator.fit(X_train, y_train, **fit_params)\n",
      "  File \"C:\\Users\\artem\\anaconda3\\lib\\site-packages\\sklearn\\linear_model\\_logistic.py\", line 1314, in fit\n",
      "    raise ValueError(\"l1_ratio must be between 0 and 1;\"\n",
      "ValueError: l1_ratio must be between 0 and 1; got (l1_ratio=None)\n",
      "\n",
      "  warnings.warn(\"Estimator fit failed. The score on this train-test\"\n"
     ]
    },
    {
     "name": "stdout",
     "output_type": "stream",
     "text": [
      "[CV 1/3; 9/10] END C=0.8286427728546842, max_iter=5000, penalty=l2, solver=liblinear; total time=   0.4s\n",
      "[CV 2/3; 9/10] START C=0.8286427728546842, max_iter=5000, penalty=l2, solver=liblinear\n",
      "[CV 2/3; 9/10] END C=0.8286427728546842, max_iter=5000, penalty=l2, solver=liblinear; total time=   0.6s\n",
      "[CV 3/3; 9/10] START C=0.8286427728546842, max_iter=5000, penalty=l2, solver=liblinear\n",
      "[CV 3/3; 9/10] END C=0.8286427728546842, max_iter=5000, penalty=l2, solver=liblinear; total time=   0.5s\n",
      "[CV 1/3; 10/10] START C=0.013257113655901081, max_iter=2000, penalty=l2, solver=lbfgs\n",
      "[CV 1/3; 10/10] END C=0.013257113655901081, max_iter=2000, penalty=l2, solver=lbfgs; total time=   0.0s\n",
      "[CV 2/3; 10/10] START C=0.013257113655901081, max_iter=2000, penalty=l2, solver=lbfgs\n",
      "[CV 2/3; 10/10] END C=0.013257113655901081, max_iter=2000, penalty=l2, solver=lbfgs; total time=   0.0s\n",
      "[CV 3/3; 10/10] START C=0.013257113655901081, max_iter=2000, penalty=l2, solver=lbfgs\n",
      "[CV 3/3; 10/10] END C=0.013257113655901081, max_iter=2000, penalty=l2, solver=lbfgs; total time=   0.0s\n"
     ]
    },
    {
     "name": "stderr",
     "output_type": "stream",
     "text": [
      "C:\\Users\\artem\\anaconda3\\lib\\site-packages\\sklearn\\model_selection\\_search.py:918: UserWarning: One or more of the test scores are non-finite: [       nan        nan 0.85098815        nan 0.85098815        nan\n",
      " 0.8508968         nan 0.850775   0.85074455]\n",
      "  warnings.warn(\n"
     ]
    },
    {
     "data": {
      "text/plain": [
       "{'solver': 'liblinear',\n",
       " 'penalty': 'l2',\n",
       " 'max_iter': 2000,\n",
       " 'C': 0.18420699693267145}"
      ]
     },
     "execution_count": 60,
     "metadata": {},
     "output_type": "execute_result"
    }
   ],
   "source": [
    "from sklearn.linear_model import LogisticRegression \n",
    "lr=LogisticRegression()\n",
    "\n",
    "\n",
    "#Hyperparameters for Logistic Regression \n",
    "\n",
    "penalty=['l1', 'l2', 'elasticnet', None]\n",
    "C=np.logspace(-4,4,50)\n",
    "solver= ['lbfgs', 'newton-cg', 'liblinear', 'sag', 'saga']\n",
    "max_iter= [100,500,1000,2000,5000]\n",
    "\n",
    "\n",
    "lr_hyperparameters= dict(penalty=penalty,\n",
    "                        C=C,\n",
    "                        solver=solver,\n",
    "                        max_iter=max_iter)\n",
    "\n",
    "\n",
    "lr_gridsearch= RandomizedSearchCV(estimator = lr,\n",
    "                                 param_distributions= lr_hyperparameters, \n",
    "                                 cv=3, verbose=10)\n",
    "\n",
    "lr_gridsearch.fit(X_train,y_train)\n",
    "\n",
    "lr_gridsearch.best_params_"
   ]
  },
  {
   "cell_type": "code",
   "execution_count": 70,
   "id": "5f8ed99a",
   "metadata": {},
   "outputs": [
    {
     "name": "stdout",
     "output_type": "stream",
     "text": [
      "\n",
      " Confuision Matrix: \n",
      " [[   0 8366]\n",
      " [   0 2582]]\n",
      "\n",
      " Classification Report: \n",
      "               precision    recall  f1-score   support\n",
      "\n",
      "           0       0.00      0.00      0.00      8366\n",
      "           1       0.24      1.00      0.38      2582\n",
      "\n",
      "    accuracy                           0.24     10948\n",
      "   macro avg       0.12      0.50      0.19     10948\n",
      "weighted avg       0.06      0.24      0.09     10948\n",
      "\n"
     ]
    },
    {
     "name": "stderr",
     "output_type": "stream",
     "text": [
      "C:\\Users\\artem\\anaconda3\\lib\\site-packages\\sklearn\\metrics\\_classification.py:1245: UndefinedMetricWarning: Precision and F-score are ill-defined and being set to 0.0 in labels with no predicted samples. Use `zero_division` parameter to control this behavior.\n",
      "  _warn_prf(average, modifier, msg_start, len(result))\n",
      "C:\\Users\\artem\\anaconda3\\lib\\site-packages\\sklearn\\metrics\\_classification.py:1245: UndefinedMetricWarning: Precision and F-score are ill-defined and being set to 0.0 in labels with no predicted samples. Use `zero_division` parameter to control this behavior.\n",
      "  _warn_prf(average, modifier, msg_start, len(result))\n",
      "C:\\Users\\artem\\anaconda3\\lib\\site-packages\\sklearn\\metrics\\_classification.py:1245: UndefinedMetricWarning: Precision and F-score are ill-defined and being set to 0.0 in labels with no predicted samples. Use `zero_division` parameter to control this behavior.\n",
      "  _warn_prf(average, modifier, msg_start, len(result))\n"
     ]
    }
   ],
   "source": [
    "\n",
    "#Predict the test tesults\n",
    "\n",
    "lr_y_predict= lr_gridsearch.predict(X_test)\n",
    "\n",
    "\n",
    "#Model Evaluation ; Confusion Matrix, Classification report, accuracy_score \n",
    "\n",
    "\n",
    "print ('\\n Confuision Matrix: \\n', confusion_matrix(y_test,lr_y_predict ))\n",
    "print ('\\n Classification Report: \\n', classification_report(y_test,lr_y_predict ))\n",
    "lr_accuracy= accuracy_score(y_test, lr_y_predict)\n",
    "\n",
    "#Append the value of accuracy in the dataframe that we created earlier \n",
    "\n",
    "result.loc[3]= ['Logistic Regression', lr_accuracy]\n"
   ]
  },
  {
   "cell_type": "code",
   "execution_count": 62,
   "id": "27b19fc5",
   "metadata": {},
   "outputs": [
    {
     "data": {
      "text/html": [
       "<div>\n",
       "<style scoped>\n",
       "    .dataframe tbody tr th:only-of-type {\n",
       "        vertical-align: middle;\n",
       "    }\n",
       "\n",
       "    .dataframe tbody tr th {\n",
       "        vertical-align: top;\n",
       "    }\n",
       "\n",
       "    .dataframe thead th {\n",
       "        text-align: right;\n",
       "    }\n",
       "</style>\n",
       "<table border=\"1\" class=\"dataframe\">\n",
       "  <thead>\n",
       "    <tr style=\"text-align: right;\">\n",
       "      <th></th>\n",
       "      <th>Model</th>\n",
       "      <th>Accuracy Score</th>\n",
       "    </tr>\n",
       "  </thead>\n",
       "  <tbody>\n",
       "    <tr>\n",
       "      <th>0</th>\n",
       "      <td>KNN classifier</td>\n",
       "      <td>0.716204</td>\n",
       "    </tr>\n",
       "    <tr>\n",
       "      <th>1</th>\n",
       "      <td>Decision Tree classifier</td>\n",
       "      <td>0.758221</td>\n",
       "    </tr>\n",
       "    <tr>\n",
       "      <th>2</th>\n",
       "      <td>RandomForest classifier</td>\n",
       "      <td>0.755663</td>\n",
       "    </tr>\n",
       "    <tr>\n",
       "      <th>3</th>\n",
       "      <td>Logistic Regression</td>\n",
       "      <td>0.235842</td>\n",
       "    </tr>\n",
       "  </tbody>\n",
       "</table>\n",
       "</div>"
      ],
      "text/plain": [
       "                      Model  Accuracy Score\n",
       "0            KNN classifier        0.716204\n",
       "1  Decision Tree classifier        0.758221\n",
       "2   RandomForest classifier        0.755663\n",
       "3       Logistic Regression        0.235842"
      ]
     },
     "execution_count": 62,
     "metadata": {},
     "output_type": "execute_result"
    }
   ],
   "source": [
    "result"
   ]
  },
  {
   "cell_type": "markdown",
   "id": "56bf79cc",
   "metadata": {},
   "source": [
    "## 5) XGBoost Classifier"
   ]
  },
  {
   "cell_type": "code",
   "execution_count": 66,
   "id": "ea579730",
   "metadata": {},
   "outputs": [
    {
     "name": "stdout",
     "output_type": "stream",
     "text": [
      "Fitting 3 folds for each of 10 candidates, totalling 30 fits\n",
      "[CV 1/3; 1/10] START booster=gblinear, gamma=51.2, learning_rate=0.6033333333333334, max_depth=6, n_estimators=900, reg_alpha=12.8, reg_lambda=0.2\n",
      "[19:30:03] WARNING: C:/Users/Administrator/workspace/xgboost-win64_release_1.6.0/src/learner.cc:627: \n",
      "Parameters: { \"gamma\", \"max_depth\" } might not be used.\n",
      "\n",
      "  This could be a false alarm, with some parameters getting used by language bindings but\n",
      "  then being mistakenly passed down to XGBoost core, or some parameter actually being used\n",
      "  but getting flagged wrongly here. Please open an issue if you find any such cases.\n",
      "\n",
      "\n",
      "[CV 1/3; 1/10] END booster=gblinear, gamma=51.2, learning_rate=0.6033333333333334, max_depth=6, n_estimators=900, reg_alpha=12.8, reg_lambda=0.2; total time=   1.8s\n",
      "[CV 2/3; 1/10] START booster=gblinear, gamma=51.2, learning_rate=0.6033333333333334, max_depth=6, n_estimators=900, reg_alpha=12.8, reg_lambda=0.2\n",
      "[19:30:05] WARNING: C:/Users/Administrator/workspace/xgboost-win64_release_1.6.0/src/learner.cc:627: \n",
      "Parameters: { \"gamma\", \"max_depth\" } might not be used.\n",
      "\n",
      "  This could be a false alarm, with some parameters getting used by language bindings but\n",
      "  then being mistakenly passed down to XGBoost core, or some parameter actually being used\n",
      "  but getting flagged wrongly here. Please open an issue if you find any such cases.\n",
      "\n",
      "\n",
      "[CV 2/3; 1/10] END booster=gblinear, gamma=51.2, learning_rate=0.6033333333333334, max_depth=6, n_estimators=900, reg_alpha=12.8, reg_lambda=0.2; total time=   1.9s\n",
      "[CV 3/3; 1/10] START booster=gblinear, gamma=51.2, learning_rate=0.6033333333333334, max_depth=6, n_estimators=900, reg_alpha=12.8, reg_lambda=0.2\n",
      "[19:30:07] WARNING: C:/Users/Administrator/workspace/xgboost-win64_release_1.6.0/src/learner.cc:627: \n",
      "Parameters: { \"gamma\", \"max_depth\" } might not be used.\n",
      "\n",
      "  This could be a false alarm, with some parameters getting used by language bindings but\n",
      "  then being mistakenly passed down to XGBoost core, or some parameter actually being used\n",
      "  but getting flagged wrongly here. Please open an issue if you find any such cases.\n",
      "\n",
      "\n",
      "[CV 3/3; 1/10] END booster=gblinear, gamma=51.2, learning_rate=0.6033333333333334, max_depth=6, n_estimators=900, reg_alpha=12.8, reg_lambda=0.2; total time=   2.1s\n",
      "[CV 1/3; 2/10] START booster=gblinear, gamma=3.2, learning_rate=0.34375000000000006, max_depth=15, n_estimators=700, reg_alpha=12.8, reg_lambda=0.1\n",
      "[19:30:09] WARNING: C:/Users/Administrator/workspace/xgboost-win64_release_1.6.0/src/learner.cc:627: \n",
      "Parameters: { \"gamma\", \"max_depth\" } might not be used.\n",
      "\n",
      "  This could be a false alarm, with some parameters getting used by language bindings but\n",
      "  then being mistakenly passed down to XGBoost core, or some parameter actually being used\n",
      "  but getting flagged wrongly here. Please open an issue if you find any such cases.\n",
      "\n",
      "\n",
      "[CV 1/3; 2/10] END booster=gblinear, gamma=3.2, learning_rate=0.34375000000000006, max_depth=15, n_estimators=700, reg_alpha=12.8, reg_lambda=0.1; total time=   1.6s\n",
      "[CV 2/3; 2/10] START booster=gblinear, gamma=3.2, learning_rate=0.34375000000000006, max_depth=15, n_estimators=700, reg_alpha=12.8, reg_lambda=0.1\n",
      "[19:30:11] WARNING: C:/Users/Administrator/workspace/xgboost-win64_release_1.6.0/src/learner.cc:627: \n",
      "Parameters: { \"gamma\", \"max_depth\" } might not be used.\n",
      "\n",
      "  This could be a false alarm, with some parameters getting used by language bindings but\n",
      "  then being mistakenly passed down to XGBoost core, or some parameter actually being used\n",
      "  but getting flagged wrongly here. Please open an issue if you find any such cases.\n",
      "\n",
      "\n",
      "[CV 2/3; 2/10] END booster=gblinear, gamma=3.2, learning_rate=0.34375000000000006, max_depth=15, n_estimators=700, reg_alpha=12.8, reg_lambda=0.1; total time=   1.6s\n",
      "[CV 3/3; 2/10] START booster=gblinear, gamma=3.2, learning_rate=0.34375000000000006, max_depth=15, n_estimators=700, reg_alpha=12.8, reg_lambda=0.1\n",
      "[19:30:12] WARNING: C:/Users/Administrator/workspace/xgboost-win64_release_1.6.0/src/learner.cc:627: \n",
      "Parameters: { \"gamma\", \"max_depth\" } might not be used.\n",
      "\n",
      "  This could be a false alarm, with some parameters getting used by language bindings but\n",
      "  then being mistakenly passed down to XGBoost core, or some parameter actually being used\n",
      "  but getting flagged wrongly here. Please open an issue if you find any such cases.\n",
      "\n",
      "\n",
      "[CV 3/3; 2/10] END booster=gblinear, gamma=3.2, learning_rate=0.34375000000000006, max_depth=15, n_estimators=700, reg_alpha=12.8, reg_lambda=0.1; total time=   1.4s\n",
      "[CV 1/3; 3/10] START booster=gblinear, gamma=102.4, learning_rate=0.26958333333333334, max_depth=3, n_estimators=700, reg_alpha=25.6, reg_lambda=25.6\n",
      "[19:30:14] WARNING: C:/Users/Administrator/workspace/xgboost-win64_release_1.6.0/src/learner.cc:627: \n",
      "Parameters: { \"gamma\", \"max_depth\" } might not be used.\n",
      "\n",
      "  This could be a false alarm, with some parameters getting used by language bindings but\n",
      "  then being mistakenly passed down to XGBoost core, or some parameter actually being used\n",
      "  but getting flagged wrongly here. Please open an issue if you find any such cases.\n",
      "\n",
      "\n",
      "[CV 1/3; 3/10] END booster=gblinear, gamma=102.4, learning_rate=0.26958333333333334, max_depth=3, n_estimators=700, reg_alpha=25.6, reg_lambda=25.6; total time=   1.5s\n",
      "[CV 2/3; 3/10] START booster=gblinear, gamma=102.4, learning_rate=0.26958333333333334, max_depth=3, n_estimators=700, reg_alpha=25.6, reg_lambda=25.6\n",
      "[19:30:15] WARNING: C:/Users/Administrator/workspace/xgboost-win64_release_1.6.0/src/learner.cc:627: \n",
      "Parameters: { \"gamma\", \"max_depth\" } might not be used.\n",
      "\n",
      "  This could be a false alarm, with some parameters getting used by language bindings but\n",
      "  then being mistakenly passed down to XGBoost core, or some parameter actually being used\n",
      "  but getting flagged wrongly here. Please open an issue if you find any such cases.\n",
      "\n",
      "\n",
      "[CV 2/3; 3/10] END booster=gblinear, gamma=102.4, learning_rate=0.26958333333333334, max_depth=3, n_estimators=700, reg_alpha=25.6, reg_lambda=25.6; total time=   1.4s\n",
      "[CV 3/3; 3/10] START booster=gblinear, gamma=102.4, learning_rate=0.26958333333333334, max_depth=3, n_estimators=700, reg_alpha=25.6, reg_lambda=25.6\n",
      "[19:30:17] WARNING: C:/Users/Administrator/workspace/xgboost-win64_release_1.6.0/src/learner.cc:627: \n",
      "Parameters: { \"gamma\", \"max_depth\" } might not be used.\n",
      "\n",
      "  This could be a false alarm, with some parameters getting used by language bindings but\n",
      "  then being mistakenly passed down to XGBoost core, or some parameter actually being used\n",
      "  but getting flagged wrongly here. Please open an issue if you find any such cases.\n",
      "\n",
      "\n",
      "[CV 3/3; 3/10] END booster=gblinear, gamma=102.4, learning_rate=0.26958333333333334, max_depth=3, n_estimators=700, reg_alpha=25.6, reg_lambda=25.6; total time=   1.4s\n",
      "[CV 1/3; 4/10] START booster=gblinear, gamma=0.4, learning_rate=0.7516666666666667, max_depth=6, n_estimators=400, reg_alpha=0.4, reg_lambda=102.4\n",
      "[19:30:19] WARNING: C:/Users/Administrator/workspace/xgboost-win64_release_1.6.0/src/learner.cc:627: \n",
      "Parameters: { \"gamma\", \"max_depth\" } might not be used.\n",
      "\n",
      "  This could be a false alarm, with some parameters getting used by language bindings but\n",
      "  then being mistakenly passed down to XGBoost core, or some parameter actually being used\n",
      "  but getting flagged wrongly here. Please open an issue if you find any such cases.\n",
      "\n",
      "\n",
      "[CV 1/3; 4/10] END booster=gblinear, gamma=0.4, learning_rate=0.7516666666666667, max_depth=6, n_estimators=400, reg_alpha=0.4, reg_lambda=102.4; total time=   1.0s\n",
      "[CV 2/3; 4/10] START booster=gblinear, gamma=0.4, learning_rate=0.7516666666666667, max_depth=6, n_estimators=400, reg_alpha=0.4, reg_lambda=102.4\n",
      "[19:30:20] WARNING: C:/Users/Administrator/workspace/xgboost-win64_release_1.6.0/src/learner.cc:627: \n",
      "Parameters: { \"gamma\", \"max_depth\" } might not be used.\n",
      "\n",
      "  This could be a false alarm, with some parameters getting used by language bindings but\n",
      "  then being mistakenly passed down to XGBoost core, or some parameter actually being used\n",
      "  but getting flagged wrongly here. Please open an issue if you find any such cases.\n",
      "\n",
      "\n",
      "[CV 2/3; 4/10] END booster=gblinear, gamma=0.4, learning_rate=0.7516666666666667, max_depth=6, n_estimators=400, reg_alpha=0.4, reg_lambda=102.4; total time=   0.8s\n",
      "[CV 3/3; 4/10] START booster=gblinear, gamma=0.4, learning_rate=0.7516666666666667, max_depth=6, n_estimators=400, reg_alpha=0.4, reg_lambda=102.4\n",
      "[19:30:21] WARNING: C:/Users/Administrator/workspace/xgboost-win64_release_1.6.0/src/learner.cc:627: \n",
      "Parameters: { \"gamma\", \"max_depth\" } might not be used.\n",
      "\n",
      "  This could be a false alarm, with some parameters getting used by language bindings but\n",
      "  then being mistakenly passed down to XGBoost core, or some parameter actually being used\n",
      "  but getting flagged wrongly here. Please open an issue if you find any such cases.\n",
      "\n",
      "\n"
     ]
    },
    {
     "name": "stdout",
     "output_type": "stream",
     "text": [
      "[CV 3/3; 4/10] END booster=gblinear, gamma=0.4, learning_rate=0.7516666666666667, max_depth=6, n_estimators=400, reg_alpha=0.4, reg_lambda=102.4; total time=   0.8s\n",
      "[CV 1/3; 5/10] START booster=gbtree, gamma=0.8, learning_rate=0.01, max_depth=9, n_estimators=900, reg_alpha=0.4, reg_lambda=12.8\n",
      "[CV 1/3; 5/10] END booster=gbtree, gamma=0.8, learning_rate=0.01, max_depth=9, n_estimators=900, reg_alpha=0.4, reg_lambda=12.8; total time=  17.2s\n",
      "[CV 2/3; 5/10] START booster=gbtree, gamma=0.8, learning_rate=0.01, max_depth=9, n_estimators=900, reg_alpha=0.4, reg_lambda=12.8\n",
      "[CV 2/3; 5/10] END booster=gbtree, gamma=0.8, learning_rate=0.01, max_depth=9, n_estimators=900, reg_alpha=0.4, reg_lambda=12.8; total time=  17.8s\n",
      "[CV 3/3; 5/10] START booster=gbtree, gamma=0.8, learning_rate=0.01, max_depth=9, n_estimators=900, reg_alpha=0.4, reg_lambda=12.8\n",
      "[CV 3/3; 5/10] END booster=gbtree, gamma=0.8, learning_rate=0.01, max_depth=9, n_estimators=900, reg_alpha=0.4, reg_lambda=12.8; total time=  17.4s\n",
      "[CV 1/3; 6/10] START booster=gblinear, gamma=0.2, learning_rate=0.9, max_depth=12, n_estimators=300, reg_alpha=0.2, reg_lambda=1.6\n",
      "[19:31:14] WARNING: C:/Users/Administrator/workspace/xgboost-win64_release_1.6.0/src/learner.cc:627: \n",
      "Parameters: { \"gamma\", \"max_depth\" } might not be used.\n",
      "\n",
      "  This could be a false alarm, with some parameters getting used by language bindings but\n",
      "  then being mistakenly passed down to XGBoost core, or some parameter actually being used\n",
      "  but getting flagged wrongly here. Please open an issue if you find any such cases.\n",
      "\n",
      "\n",
      "[CV 1/3; 6/10] END booster=gblinear, gamma=0.2, learning_rate=0.9, max_depth=12, n_estimators=300, reg_alpha=0.2, reg_lambda=1.6; total time=   0.8s\n",
      "[CV 2/3; 6/10] START booster=gblinear, gamma=0.2, learning_rate=0.9, max_depth=12, n_estimators=300, reg_alpha=0.2, reg_lambda=1.6\n",
      "[19:31:15] WARNING: C:/Users/Administrator/workspace/xgboost-win64_release_1.6.0/src/learner.cc:627: \n",
      "Parameters: { \"gamma\", \"max_depth\" } might not be used.\n",
      "\n",
      "  This could be a false alarm, with some parameters getting used by language bindings but\n",
      "  then being mistakenly passed down to XGBoost core, or some parameter actually being used\n",
      "  but getting flagged wrongly here. Please open an issue if you find any such cases.\n",
      "\n",
      "\n",
      "[CV 2/3; 6/10] END booster=gblinear, gamma=0.2, learning_rate=0.9, max_depth=12, n_estimators=300, reg_alpha=0.2, reg_lambda=1.6; total time=   0.7s\n",
      "[CV 3/3; 6/10] START booster=gblinear, gamma=0.2, learning_rate=0.9, max_depth=12, n_estimators=300, reg_alpha=0.2, reg_lambda=1.6\n",
      "[19:31:16] WARNING: C:/Users/Administrator/workspace/xgboost-win64_release_1.6.0/src/learner.cc:627: \n",
      "Parameters: { \"gamma\", \"max_depth\" } might not be used.\n",
      "\n",
      "  This could be a false alarm, with some parameters getting used by language bindings but\n",
      "  then being mistakenly passed down to XGBoost core, or some parameter actually being used\n",
      "  but getting flagged wrongly here. Please open an issue if you find any such cases.\n",
      "\n",
      "\n",
      "[CV 3/3; 6/10] END booster=gblinear, gamma=0.2, learning_rate=0.9, max_depth=12, n_estimators=300, reg_alpha=0.2, reg_lambda=1.6; total time=   0.8s\n",
      "[CV 1/3; 7/10] START booster=gblinear, gamma=3.2, learning_rate=0.34375000000000006, max_depth=6, n_estimators=700, reg_alpha=25.6, reg_lambda=25.6\n",
      "[19:31:17] WARNING: C:/Users/Administrator/workspace/xgboost-win64_release_1.6.0/src/learner.cc:627: \n",
      "Parameters: { \"gamma\", \"max_depth\" } might not be used.\n",
      "\n",
      "  This could be a false alarm, with some parameters getting used by language bindings but\n",
      "  then being mistakenly passed down to XGBoost core, or some parameter actually being used\n",
      "  but getting flagged wrongly here. Please open an issue if you find any such cases.\n",
      "\n",
      "\n",
      "[CV 1/3; 7/10] END booster=gblinear, gamma=3.2, learning_rate=0.34375000000000006, max_depth=6, n_estimators=700, reg_alpha=25.6, reg_lambda=25.6; total time=   1.7s\n",
      "[CV 2/3; 7/10] START booster=gblinear, gamma=3.2, learning_rate=0.34375000000000006, max_depth=6, n_estimators=700, reg_alpha=25.6, reg_lambda=25.6\n",
      "[19:31:19] WARNING: C:/Users/Administrator/workspace/xgboost-win64_release_1.6.0/src/learner.cc:627: \n",
      "Parameters: { \"gamma\", \"max_depth\" } might not be used.\n",
      "\n",
      "  This could be a false alarm, with some parameters getting used by language bindings but\n",
      "  then being mistakenly passed down to XGBoost core, or some parameter actually being used\n",
      "  but getting flagged wrongly here. Please open an issue if you find any such cases.\n",
      "\n",
      "\n",
      "[CV 2/3; 7/10] END booster=gblinear, gamma=3.2, learning_rate=0.34375000000000006, max_depth=6, n_estimators=700, reg_alpha=25.6, reg_lambda=25.6; total time=   1.7s\n",
      "[CV 3/3; 7/10] START booster=gblinear, gamma=3.2, learning_rate=0.34375000000000006, max_depth=6, n_estimators=700, reg_alpha=25.6, reg_lambda=25.6\n",
      "[19:31:20] WARNING: C:/Users/Administrator/workspace/xgboost-win64_release_1.6.0/src/learner.cc:627: \n",
      "Parameters: { \"gamma\", \"max_depth\" } might not be used.\n",
      "\n",
      "  This could be a false alarm, with some parameters getting used by language bindings but\n",
      "  then being mistakenly passed down to XGBoost core, or some parameter actually being used\n",
      "  but getting flagged wrongly here. Please open an issue if you find any such cases.\n",
      "\n",
      "\n",
      "[CV 3/3; 7/10] END booster=gblinear, gamma=3.2, learning_rate=0.34375000000000006, max_depth=6, n_estimators=700, reg_alpha=25.6, reg_lambda=25.6; total time=   1.7s\n",
      "[CV 1/3; 8/10] START booster=gblinear, gamma=102.4, learning_rate=0.38083333333333336, max_depth=3, n_estimators=800, reg_alpha=102.4, reg_lambda=0.8\n",
      "[19:31:22] WARNING: C:/Users/Administrator/workspace/xgboost-win64_release_1.6.0/src/learner.cc:627: \n",
      "Parameters: { \"gamma\", \"max_depth\" } might not be used.\n",
      "\n",
      "  This could be a false alarm, with some parameters getting used by language bindings but\n",
      "  then being mistakenly passed down to XGBoost core, or some parameter actually being used\n",
      "  but getting flagged wrongly here. Please open an issue if you find any such cases.\n",
      "\n",
      "\n",
      "[CV 1/3; 8/10] END booster=gblinear, gamma=102.4, learning_rate=0.38083333333333336, max_depth=3, n_estimators=800, reg_alpha=102.4, reg_lambda=0.8; total time=   2.1s\n",
      "[CV 2/3; 8/10] START booster=gblinear, gamma=102.4, learning_rate=0.38083333333333336, max_depth=3, n_estimators=800, reg_alpha=102.4, reg_lambda=0.8\n",
      "[19:31:24] WARNING: C:/Users/Administrator/workspace/xgboost-win64_release_1.6.0/src/learner.cc:627: \n",
      "Parameters: { \"gamma\", \"max_depth\" } might not be used.\n",
      "\n",
      "  This could be a false alarm, with some parameters getting used by language bindings but\n",
      "  then being mistakenly passed down to XGBoost core, or some parameter actually being used\n",
      "  but getting flagged wrongly here. Please open an issue if you find any such cases.\n",
      "\n",
      "\n",
      "[CV 2/3; 8/10] END booster=gblinear, gamma=102.4, learning_rate=0.38083333333333336, max_depth=3, n_estimators=800, reg_alpha=102.4, reg_lambda=0.8; total time=   2.0s\n",
      "[CV 3/3; 8/10] START booster=gblinear, gamma=102.4, learning_rate=0.38083333333333336, max_depth=3, n_estimators=800, reg_alpha=102.4, reg_lambda=0.8\n",
      "[19:31:27] WARNING: C:/Users/Administrator/workspace/xgboost-win64_release_1.6.0/src/learner.cc:627: \n",
      "Parameters: { \"gamma\", \"max_depth\" } might not be used.\n",
      "\n",
      "  This could be a false alarm, with some parameters getting used by language bindings but\n",
      "  then being mistakenly passed down to XGBoost core, or some parameter actually being used\n",
      "  but getting flagged wrongly here. Please open an issue if you find any such cases.\n",
      "\n",
      "\n",
      "[CV 3/3; 8/10] END booster=gblinear, gamma=102.4, learning_rate=0.38083333333333336, max_depth=3, n_estimators=800, reg_alpha=102.4, reg_lambda=0.8; total time=   2.0s\n",
      "[CV 1/3; 9/10] START booster=gblinear, gamma=0.4, learning_rate=0.08416666666666667, max_depth=15, n_estimators=400, reg_alpha=3.2, reg_lambda=0.2\n",
      "[19:31:29] WARNING: C:/Users/Administrator/workspace/xgboost-win64_release_1.6.0/src/learner.cc:627: \n",
      "Parameters: { \"gamma\", \"max_depth\" } might not be used.\n",
      "\n",
      "  This could be a false alarm, with some parameters getting used by language bindings but\n",
      "  then being mistakenly passed down to XGBoost core, or some parameter actually being used\n",
      "  but getting flagged wrongly here. Please open an issue if you find any such cases.\n",
      "\n",
      "\n",
      "[CV 1/3; 9/10] END booster=gblinear, gamma=0.4, learning_rate=0.08416666666666667, max_depth=15, n_estimators=400, reg_alpha=3.2, reg_lambda=0.2; total time=   1.0s\n",
      "[CV 2/3; 9/10] START booster=gblinear, gamma=0.4, learning_rate=0.08416666666666667, max_depth=15, n_estimators=400, reg_alpha=3.2, reg_lambda=0.2\n",
      "[19:31:30] WARNING: C:/Users/Administrator/workspace/xgboost-win64_release_1.6.0/src/learner.cc:627: \n",
      "Parameters: { \"gamma\", \"max_depth\" } might not be used.\n",
      "\n",
      "  This could be a false alarm, with some parameters getting used by language bindings but\n",
      "  then being mistakenly passed down to XGBoost core, or some parameter actually being used\n",
      "  but getting flagged wrongly here. Please open an issue if you find any such cases.\n",
      "\n",
      "\n"
     ]
    },
    {
     "name": "stdout",
     "output_type": "stream",
     "text": [
      "[CV 2/3; 9/10] END booster=gblinear, gamma=0.4, learning_rate=0.08416666666666667, max_depth=15, n_estimators=400, reg_alpha=3.2, reg_lambda=0.2; total time=   0.9s\n",
      "[CV 3/3; 9/10] START booster=gblinear, gamma=0.4, learning_rate=0.08416666666666667, max_depth=15, n_estimators=400, reg_alpha=3.2, reg_lambda=0.2\n",
      "[19:31:31] WARNING: C:/Users/Administrator/workspace/xgboost-win64_release_1.6.0/src/learner.cc:627: \n",
      "Parameters: { \"gamma\", \"max_depth\" } might not be used.\n",
      "\n",
      "  This could be a false alarm, with some parameters getting used by language bindings but\n",
      "  then being mistakenly passed down to XGBoost core, or some parameter actually being used\n",
      "  but getting flagged wrongly here. Please open an issue if you find any such cases.\n",
      "\n",
      "\n",
      "[CV 3/3; 9/10] END booster=gblinear, gamma=0.4, learning_rate=0.08416666666666667, max_depth=15, n_estimators=400, reg_alpha=3.2, reg_lambda=0.2; total time=   0.9s\n",
      "[CV 1/3; 10/10] START booster=gblinear, gamma=0, learning_rate=0.6775000000000001, max_depth=9, n_estimators=700, reg_alpha=3.2, reg_lambda=0.8\n",
      "[19:31:32] WARNING: C:/Users/Administrator/workspace/xgboost-win64_release_1.6.0/src/learner.cc:627: \n",
      "Parameters: { \"gamma\", \"max_depth\" } might not be used.\n",
      "\n",
      "  This could be a false alarm, with some parameters getting used by language bindings but\n",
      "  then being mistakenly passed down to XGBoost core, or some parameter actually being used\n",
      "  but getting flagged wrongly here. Please open an issue if you find any such cases.\n",
      "\n",
      "\n",
      "[CV 1/3; 10/10] END booster=gblinear, gamma=0, learning_rate=0.6775000000000001, max_depth=9, n_estimators=700, reg_alpha=3.2, reg_lambda=0.8; total time=   1.7s\n",
      "[CV 2/3; 10/10] START booster=gblinear, gamma=0, learning_rate=0.6775000000000001, max_depth=9, n_estimators=700, reg_alpha=3.2, reg_lambda=0.8\n",
      "[19:31:34] WARNING: C:/Users/Administrator/workspace/xgboost-win64_release_1.6.0/src/learner.cc:627: \n",
      "Parameters: { \"gamma\", \"max_depth\" } might not be used.\n",
      "\n",
      "  This could be a false alarm, with some parameters getting used by language bindings but\n",
      "  then being mistakenly passed down to XGBoost core, or some parameter actually being used\n",
      "  but getting flagged wrongly here. Please open an issue if you find any such cases.\n",
      "\n",
      "\n",
      "[CV 2/3; 10/10] END booster=gblinear, gamma=0, learning_rate=0.6775000000000001, max_depth=9, n_estimators=700, reg_alpha=3.2, reg_lambda=0.8; total time=   1.7s\n",
      "[CV 3/3; 10/10] START booster=gblinear, gamma=0, learning_rate=0.6775000000000001, max_depth=9, n_estimators=700, reg_alpha=3.2, reg_lambda=0.8\n",
      "[19:31:35] WARNING: C:/Users/Administrator/workspace/xgboost-win64_release_1.6.0/src/learner.cc:627: \n",
      "Parameters: { \"gamma\", \"max_depth\" } might not be used.\n",
      "\n",
      "  This could be a false alarm, with some parameters getting used by language bindings but\n",
      "  then being mistakenly passed down to XGBoost core, or some parameter actually being used\n",
      "  but getting flagged wrongly here. Please open an issue if you find any such cases.\n",
      "\n",
      "\n",
      "[CV 3/3; 10/10] END booster=gblinear, gamma=0, learning_rate=0.6775000000000001, max_depth=9, n_estimators=700, reg_alpha=3.2, reg_lambda=0.8; total time=   1.7s\n"
     ]
    },
    {
     "data": {
      "text/plain": [
       "{'reg_lambda': 12.8,\n",
       " 'reg_alpha': 0.4,\n",
       " 'n_estimators': 900,\n",
       " 'max_depth': 9,\n",
       " 'learning_rate': 0.01,\n",
       " 'gamma': 0.8,\n",
       " 'booster': 'gbtree'}"
      ]
     },
     "execution_count": 66,
     "metadata": {},
     "output_type": "execute_result"
    }
   ],
   "source": [
    "from xgboost import XGBClassifier\n",
    "xgb_clf= XGBClassifier()\n",
    "\n",
    "\n",
    "#hyperparameters \n",
    "\n",
    "max_depth = [3,6,9,12,15]\n",
    "learning_rate= [float(x) for x in np.linspace(0.01, 0.9, 25)]\n",
    "n_estimators = list(range(100,1000,100))\n",
    "\n",
    "reg_alpha= [0,0.1,0.2,0.4,0.8, 1.6,3.2,6.4,12.8,25.6,51.2,102.4,204.8]\n",
    "reg_lambda= [0,0.1,0.2,0.4,0.8, 1.6,3.2,6.4,12.8,25.6,51.2,102.4,204.8]\n",
    "gamma= [0,0.1,0.2,0.4,0.8, 1.6,3.2,6.4,12.8,25.6,51.2,102.4,204.8]\n",
    "\n",
    "booster=['gbtree', 'gblinear']\n",
    "\n",
    "# Puttin the hyperparameters in a dictionary \n",
    "\n",
    "xgb_hyperparameters= dict(max_depth=max_depth,\n",
    "                          learning_rate=learning_rate,\n",
    "                          n_estimators=n_estimators,\n",
    "                          reg_alpha=reg_alpha,\n",
    "                          reg_lambda=reg_lambda,\n",
    "                          gamma=gamma,\n",
    "                          booster=booster\n",
    "                         )\n",
    "\n",
    "\n",
    "xgb_gridsearch= RandomizedSearchCV(xgb_clf, \n",
    "                                  param_distributions= xgb_hyperparameters,\n",
    "                                  cv=3, verbose=10)\n",
    "\n",
    "xgb_gridsearch.fit(X_train, y_train)\n",
    "\n",
    "\n",
    "xgb_gridsearch.best_params_"
   ]
  },
  {
   "cell_type": "code",
   "execution_count": 68,
   "id": "f4882b5f",
   "metadata": {},
   "outputs": [
    {
     "name": "stdout",
     "output_type": "stream",
     "text": [
      "\n",
      " Confuision Matrix: \n",
      " [[8044  322]\n",
      " [2016  566]]\n",
      "\n",
      " Classification Report: \n",
      "               precision    recall  f1-score   support\n",
      "\n",
      "           0       0.80      0.96      0.87      8366\n",
      "           1       0.64      0.22      0.33      2582\n",
      "\n",
      "    accuracy                           0.79     10948\n",
      "   macro avg       0.72      0.59      0.60     10948\n",
      "weighted avg       0.76      0.79      0.74     10948\n",
      "\n"
     ]
    }
   ],
   "source": [
    "\n",
    "#Predict the test tesults\n",
    "\n",
    "xgb_y_predict= xgb_gridsearch.predict(X_test)\n",
    "\n",
    "\n",
    "#Model Evaluation ; Confusion Matrix, Classification report, accuracy_score \n",
    "\n",
    "\n",
    "print ('\\n Confuision Matrix: \\n', confusion_matrix(y_test,xgb_y_predict ))\n",
    "print ('\\n Classification Report: \\n', classification_report(y_test,xgb_y_predict ))\n",
    "xgb_accuracy= accuracy_score(y_test, xgb_y_predict)\n",
    "\n",
    "#Append the value of accuracy in the dataframe that we created earlier \n",
    "\n",
    "result.loc[4]= ['XGBoost Classifier', xgb_accuracy]\n"
   ]
  },
  {
   "cell_type": "code",
   "execution_count": 71,
   "id": "8fd94402",
   "metadata": {},
   "outputs": [
    {
     "data": {
      "text/html": [
       "<div>\n",
       "<style scoped>\n",
       "    .dataframe tbody tr th:only-of-type {\n",
       "        vertical-align: middle;\n",
       "    }\n",
       "\n",
       "    .dataframe tbody tr th {\n",
       "        vertical-align: top;\n",
       "    }\n",
       "\n",
       "    .dataframe thead th {\n",
       "        text-align: right;\n",
       "    }\n",
       "</style>\n",
       "<table border=\"1\" class=\"dataframe\">\n",
       "  <thead>\n",
       "    <tr style=\"text-align: right;\">\n",
       "      <th></th>\n",
       "      <th>Model</th>\n",
       "      <th>Accuracy Score</th>\n",
       "    </tr>\n",
       "  </thead>\n",
       "  <tbody>\n",
       "    <tr>\n",
       "      <th>0</th>\n",
       "      <td>KNN classifier</td>\n",
       "      <td>0.716204</td>\n",
       "    </tr>\n",
       "    <tr>\n",
       "      <th>1</th>\n",
       "      <td>Decision Tree classifier</td>\n",
       "      <td>0.758221</td>\n",
       "    </tr>\n",
       "    <tr>\n",
       "      <th>2</th>\n",
       "      <td>RandomForest classifier</td>\n",
       "      <td>0.755663</td>\n",
       "    </tr>\n",
       "    <tr>\n",
       "      <th>3</th>\n",
       "      <td>Logistic Regression</td>\n",
       "      <td>0.235842</td>\n",
       "    </tr>\n",
       "    <tr>\n",
       "      <th>4</th>\n",
       "      <td>XGBoost Classifier</td>\n",
       "      <td>0.786445</td>\n",
       "    </tr>\n",
       "  </tbody>\n",
       "</table>\n",
       "</div>"
      ],
      "text/plain": [
       "                      Model  Accuracy Score\n",
       "0            KNN classifier        0.716204\n",
       "1  Decision Tree classifier        0.758221\n",
       "2   RandomForest classifier        0.755663\n",
       "3       Logistic Regression        0.235842\n",
       "4        XGBoost Classifier        0.786445"
      ]
     },
     "execution_count": 71,
     "metadata": {},
     "output_type": "execute_result"
    }
   ],
   "source": [
    "result"
   ]
  },
  {
   "cell_type": "markdown",
   "id": "7a082d04",
   "metadata": {},
   "source": [
    "# Final Observation : XGBoost gives the highest accuracy "
   ]
  },
  {
   "cell_type": "code",
   "execution_count": null,
   "id": "d864e877",
   "metadata": {},
   "outputs": [],
   "source": []
  }
 ],
 "metadata": {
  "kernelspec": {
   "display_name": "Python 3",
   "language": "python",
   "name": "python3"
  },
  "language_info": {
   "codemirror_mode": {
    "name": "ipython",
    "version": 3
   },
   "file_extension": ".py",
   "mimetype": "text/x-python",
   "name": "python",
   "nbconvert_exporter": "python",
   "pygments_lexer": "ipython3",
   "version": "3.8.8"
  }
 },
 "nbformat": 4,
 "nbformat_minor": 5
}
